{
  "cells": [
    {
      "cell_type": "markdown",
      "metadata": {
        "id": "ZOBeL-ZpnCf3"
      },
      "source": [
        "#Importing Libraries\n"
      ]
    },
    {
      "cell_type": "code",
      "execution_count": 4,
      "metadata": {
        "id": "BBq8aI7gSCHI"
      },
      "outputs": [],
      "source": [
        "import pandas as pd\n",
        "import numpy as np\n",
        "import tensorflow as tf\n",
        "import seaborn as sns\n",
        "import matplotlib.pyplot as plt"
      ]
    },
    {
      "cell_type": "markdown",
      "metadata": {
        "id": "4-GJbQDhnHFU"
      },
      "source": [
        "#Loading the dataset"
      ]
    },
    {
      "cell_type": "code",
      "execution_count": 5,
      "metadata": {
        "colab": {
          "base_uri": "https://localhost:8080/",
          "height": 423
        },
        "id": "Pmb_Tvn6SIt1",
        "outputId": "6507e220-e5f1-4058-dace-b337145baee0"
      },
      "outputs": [
        {
          "data": {
            "text/html": [
              "<div>\n",
              "<style scoped>\n",
              "    .dataframe tbody tr th:only-of-type {\n",
              "        vertical-align: middle;\n",
              "    }\n",
              "\n",
              "    .dataframe tbody tr th {\n",
              "        vertical-align: top;\n",
              "    }\n",
              "\n",
              "    .dataframe thead th {\n",
              "        text-align: right;\n",
              "    }\n",
              "</style>\n",
              "<table border=\"1\" class=\"dataframe\">\n",
              "  <thead>\n",
              "    <tr style=\"text-align: right;\">\n",
              "      <th></th>\n",
              "      <th>age</th>\n",
              "      <th>sex</th>\n",
              "      <th>cp</th>\n",
              "      <th>trtbps</th>\n",
              "      <th>chol</th>\n",
              "      <th>fbs</th>\n",
              "      <th>restecg</th>\n",
              "      <th>thalachh</th>\n",
              "      <th>exng</th>\n",
              "      <th>oldpeak</th>\n",
              "      <th>slp</th>\n",
              "      <th>caa</th>\n",
              "      <th>thall</th>\n",
              "      <th>output</th>\n",
              "    </tr>\n",
              "  </thead>\n",
              "  <tbody>\n",
              "    <tr>\n",
              "      <th>0</th>\n",
              "      <td>63</td>\n",
              "      <td>1</td>\n",
              "      <td>3</td>\n",
              "      <td>145</td>\n",
              "      <td>233</td>\n",
              "      <td>1</td>\n",
              "      <td>0</td>\n",
              "      <td>150</td>\n",
              "      <td>0</td>\n",
              "      <td>2.3</td>\n",
              "      <td>0</td>\n",
              "      <td>0</td>\n",
              "      <td>1</td>\n",
              "      <td>1</td>\n",
              "    </tr>\n",
              "    <tr>\n",
              "      <th>1</th>\n",
              "      <td>37</td>\n",
              "      <td>1</td>\n",
              "      <td>2</td>\n",
              "      <td>130</td>\n",
              "      <td>250</td>\n",
              "      <td>0</td>\n",
              "      <td>1</td>\n",
              "      <td>187</td>\n",
              "      <td>0</td>\n",
              "      <td>3.5</td>\n",
              "      <td>0</td>\n",
              "      <td>0</td>\n",
              "      <td>2</td>\n",
              "      <td>1</td>\n",
              "    </tr>\n",
              "    <tr>\n",
              "      <th>2</th>\n",
              "      <td>41</td>\n",
              "      <td>0</td>\n",
              "      <td>1</td>\n",
              "      <td>130</td>\n",
              "      <td>204</td>\n",
              "      <td>0</td>\n",
              "      <td>0</td>\n",
              "      <td>172</td>\n",
              "      <td>0</td>\n",
              "      <td>1.4</td>\n",
              "      <td>2</td>\n",
              "      <td>0</td>\n",
              "      <td>2</td>\n",
              "      <td>1</td>\n",
              "    </tr>\n",
              "    <tr>\n",
              "      <th>3</th>\n",
              "      <td>56</td>\n",
              "      <td>1</td>\n",
              "      <td>1</td>\n",
              "      <td>120</td>\n",
              "      <td>236</td>\n",
              "      <td>0</td>\n",
              "      <td>1</td>\n",
              "      <td>178</td>\n",
              "      <td>0</td>\n",
              "      <td>0.8</td>\n",
              "      <td>2</td>\n",
              "      <td>0</td>\n",
              "      <td>2</td>\n",
              "      <td>1</td>\n",
              "    </tr>\n",
              "    <tr>\n",
              "      <th>4</th>\n",
              "      <td>57</td>\n",
              "      <td>0</td>\n",
              "      <td>0</td>\n",
              "      <td>120</td>\n",
              "      <td>354</td>\n",
              "      <td>0</td>\n",
              "      <td>1</td>\n",
              "      <td>163</td>\n",
              "      <td>1</td>\n",
              "      <td>0.6</td>\n",
              "      <td>2</td>\n",
              "      <td>0</td>\n",
              "      <td>2</td>\n",
              "      <td>1</td>\n",
              "    </tr>\n",
              "    <tr>\n",
              "      <th>...</th>\n",
              "      <td>...</td>\n",
              "      <td>...</td>\n",
              "      <td>...</td>\n",
              "      <td>...</td>\n",
              "      <td>...</td>\n",
              "      <td>...</td>\n",
              "      <td>...</td>\n",
              "      <td>...</td>\n",
              "      <td>...</td>\n",
              "      <td>...</td>\n",
              "      <td>...</td>\n",
              "      <td>...</td>\n",
              "      <td>...</td>\n",
              "      <td>...</td>\n",
              "    </tr>\n",
              "    <tr>\n",
              "      <th>298</th>\n",
              "      <td>57</td>\n",
              "      <td>0</td>\n",
              "      <td>0</td>\n",
              "      <td>140</td>\n",
              "      <td>241</td>\n",
              "      <td>0</td>\n",
              "      <td>1</td>\n",
              "      <td>123</td>\n",
              "      <td>1</td>\n",
              "      <td>0.2</td>\n",
              "      <td>1</td>\n",
              "      <td>0</td>\n",
              "      <td>3</td>\n",
              "      <td>0</td>\n",
              "    </tr>\n",
              "    <tr>\n",
              "      <th>299</th>\n",
              "      <td>45</td>\n",
              "      <td>1</td>\n",
              "      <td>3</td>\n",
              "      <td>110</td>\n",
              "      <td>264</td>\n",
              "      <td>0</td>\n",
              "      <td>1</td>\n",
              "      <td>132</td>\n",
              "      <td>0</td>\n",
              "      <td>1.2</td>\n",
              "      <td>1</td>\n",
              "      <td>0</td>\n",
              "      <td>3</td>\n",
              "      <td>0</td>\n",
              "    </tr>\n",
              "    <tr>\n",
              "      <th>300</th>\n",
              "      <td>68</td>\n",
              "      <td>1</td>\n",
              "      <td>0</td>\n",
              "      <td>144</td>\n",
              "      <td>193</td>\n",
              "      <td>1</td>\n",
              "      <td>1</td>\n",
              "      <td>141</td>\n",
              "      <td>0</td>\n",
              "      <td>3.4</td>\n",
              "      <td>1</td>\n",
              "      <td>2</td>\n",
              "      <td>3</td>\n",
              "      <td>0</td>\n",
              "    </tr>\n",
              "    <tr>\n",
              "      <th>301</th>\n",
              "      <td>57</td>\n",
              "      <td>1</td>\n",
              "      <td>0</td>\n",
              "      <td>130</td>\n",
              "      <td>131</td>\n",
              "      <td>0</td>\n",
              "      <td>1</td>\n",
              "      <td>115</td>\n",
              "      <td>1</td>\n",
              "      <td>1.2</td>\n",
              "      <td>1</td>\n",
              "      <td>1</td>\n",
              "      <td>3</td>\n",
              "      <td>0</td>\n",
              "    </tr>\n",
              "    <tr>\n",
              "      <th>302</th>\n",
              "      <td>57</td>\n",
              "      <td>0</td>\n",
              "      <td>1</td>\n",
              "      <td>130</td>\n",
              "      <td>236</td>\n",
              "      <td>0</td>\n",
              "      <td>0</td>\n",
              "      <td>174</td>\n",
              "      <td>0</td>\n",
              "      <td>0.0</td>\n",
              "      <td>1</td>\n",
              "      <td>1</td>\n",
              "      <td>2</td>\n",
              "      <td>0</td>\n",
              "    </tr>\n",
              "  </tbody>\n",
              "</table>\n",
              "<p>303 rows × 14 columns</p>\n",
              "</div>"
            ],
            "text/plain": [
              "     age  sex  cp  trtbps  chol  fbs  restecg  thalachh  exng  oldpeak  slp  \\\n",
              "0     63    1   3     145   233    1        0       150     0      2.3    0   \n",
              "1     37    1   2     130   250    0        1       187     0      3.5    0   \n",
              "2     41    0   1     130   204    0        0       172     0      1.4    2   \n",
              "3     56    1   1     120   236    0        1       178     0      0.8    2   \n",
              "4     57    0   0     120   354    0        1       163     1      0.6    2   \n",
              "..   ...  ...  ..     ...   ...  ...      ...       ...   ...      ...  ...   \n",
              "298   57    0   0     140   241    0        1       123     1      0.2    1   \n",
              "299   45    1   3     110   264    0        1       132     0      1.2    1   \n",
              "300   68    1   0     144   193    1        1       141     0      3.4    1   \n",
              "301   57    1   0     130   131    0        1       115     1      1.2    1   \n",
              "302   57    0   1     130   236    0        0       174     0      0.0    1   \n",
              "\n",
              "     caa  thall  output  \n",
              "0      0      1       1  \n",
              "1      0      2       1  \n",
              "2      0      2       1  \n",
              "3      0      2       1  \n",
              "4      0      2       1  \n",
              "..   ...    ...     ...  \n",
              "298    0      3       0  \n",
              "299    0      3       0  \n",
              "300    2      3       0  \n",
              "301    1      3       0  \n",
              "302    1      2       0  \n",
              "\n",
              "[303 rows x 14 columns]"
            ]
          },
          "execution_count": 5,
          "metadata": {},
          "output_type": "execute_result"
        }
      ],
      "source": [
        "dataset=pd.read_csv('heart.csv')\n",
        "dataset"
      ]
    },
    {
      "cell_type": "code",
      "execution_count": 6,
      "metadata": {
        "colab": {
          "base_uri": "https://localhost:8080/"
        },
        "id": "H3Iomp9FmT1S",
        "outputId": "e1aa8caf-048f-43de-e987-c3c54a424ba2"
      },
      "outputs": [
        {
          "data": {
            "text/plain": [
              "age           int64\n",
              "sex           int64\n",
              "cp            int64\n",
              "trtbps        int64\n",
              "chol          int64\n",
              "fbs           int64\n",
              "restecg       int64\n",
              "thalachh      int64\n",
              "exng          int64\n",
              "oldpeak     float64\n",
              "slp           int64\n",
              "caa           int64\n",
              "thall         int64\n",
              "output        int64\n",
              "dtype: object"
            ]
          },
          "execution_count": 6,
          "metadata": {},
          "output_type": "execute_result"
        }
      ],
      "source": [
        "dataset.dtypes"
      ]
    },
    {
      "cell_type": "code",
      "execution_count": 7,
      "metadata": {
        "colab": {
          "base_uri": "https://localhost:8080/"
        },
        "id": "Xg8hl_7Na-uH",
        "outputId": "0ccb4d78-2609-4b13-9c86-97501948e3dc"
      },
      "outputs": [
        {
          "data": {
            "text/plain": [
              "<bound method DataFrame.info of      age  sex  cp  trtbps  chol  fbs  restecg  thalachh  exng  oldpeak  slp  \\\n",
              "0     63    1   3     145   233    1        0       150     0      2.3    0   \n",
              "1     37    1   2     130   250    0        1       187     0      3.5    0   \n",
              "2     41    0   1     130   204    0        0       172     0      1.4    2   \n",
              "3     56    1   1     120   236    0        1       178     0      0.8    2   \n",
              "4     57    0   0     120   354    0        1       163     1      0.6    2   \n",
              "..   ...  ...  ..     ...   ...  ...      ...       ...   ...      ...  ...   \n",
              "298   57    0   0     140   241    0        1       123     1      0.2    1   \n",
              "299   45    1   3     110   264    0        1       132     0      1.2    1   \n",
              "300   68    1   0     144   193    1        1       141     0      3.4    1   \n",
              "301   57    1   0     130   131    0        1       115     1      1.2    1   \n",
              "302   57    0   1     130   236    0        0       174     0      0.0    1   \n",
              "\n",
              "     caa  thall  output  \n",
              "0      0      1       1  \n",
              "1      0      2       1  \n",
              "2      0      2       1  \n",
              "3      0      2       1  \n",
              "4      0      2       1  \n",
              "..   ...    ...     ...  \n",
              "298    0      3       0  \n",
              "299    0      3       0  \n",
              "300    2      3       0  \n",
              "301    1      3       0  \n",
              "302    1      2       0  \n",
              "\n",
              "[303 rows x 14 columns]>"
            ]
          },
          "execution_count": 7,
          "metadata": {},
          "output_type": "execute_result"
        }
      ],
      "source": [
        "dataset.info"
      ]
    },
    {
      "cell_type": "code",
      "execution_count": 8,
      "metadata": {
        "colab": {
          "base_uri": "https://localhost:8080/",
          "height": 488
        },
        "id": "3J6VJ-zKbhCo",
        "outputId": "32e5fe78-3e74-4438-dda6-642170359e20"
      },
      "outputs": [
        {
          "data": {
            "text/html": [
              "<div>\n",
              "<style scoped>\n",
              "    .dataframe tbody tr th:only-of-type {\n",
              "        vertical-align: middle;\n",
              "    }\n",
              "\n",
              "    .dataframe tbody tr th {\n",
              "        vertical-align: top;\n",
              "    }\n",
              "\n",
              "    .dataframe thead th {\n",
              "        text-align: right;\n",
              "    }\n",
              "</style>\n",
              "<table border=\"1\" class=\"dataframe\">\n",
              "  <thead>\n",
              "    <tr style=\"text-align: right;\">\n",
              "      <th></th>\n",
              "      <th>count</th>\n",
              "      <th>mean</th>\n",
              "      <th>std</th>\n",
              "      <th>min</th>\n",
              "      <th>25%</th>\n",
              "      <th>50%</th>\n",
              "      <th>75%</th>\n",
              "      <th>max</th>\n",
              "    </tr>\n",
              "  </thead>\n",
              "  <tbody>\n",
              "    <tr>\n",
              "      <th>age</th>\n",
              "      <td>303.0</td>\n",
              "      <td>54.366337</td>\n",
              "      <td>9.082101</td>\n",
              "      <td>29.0</td>\n",
              "      <td>47.5</td>\n",
              "      <td>55.0</td>\n",
              "      <td>61.0</td>\n",
              "      <td>77.0</td>\n",
              "    </tr>\n",
              "    <tr>\n",
              "      <th>sex</th>\n",
              "      <td>303.0</td>\n",
              "      <td>0.683168</td>\n",
              "      <td>0.466011</td>\n",
              "      <td>0.0</td>\n",
              "      <td>0.0</td>\n",
              "      <td>1.0</td>\n",
              "      <td>1.0</td>\n",
              "      <td>1.0</td>\n",
              "    </tr>\n",
              "    <tr>\n",
              "      <th>cp</th>\n",
              "      <td>303.0</td>\n",
              "      <td>0.966997</td>\n",
              "      <td>1.032052</td>\n",
              "      <td>0.0</td>\n",
              "      <td>0.0</td>\n",
              "      <td>1.0</td>\n",
              "      <td>2.0</td>\n",
              "      <td>3.0</td>\n",
              "    </tr>\n",
              "    <tr>\n",
              "      <th>trtbps</th>\n",
              "      <td>303.0</td>\n",
              "      <td>131.623762</td>\n",
              "      <td>17.538143</td>\n",
              "      <td>94.0</td>\n",
              "      <td>120.0</td>\n",
              "      <td>130.0</td>\n",
              "      <td>140.0</td>\n",
              "      <td>200.0</td>\n",
              "    </tr>\n",
              "    <tr>\n",
              "      <th>chol</th>\n",
              "      <td>303.0</td>\n",
              "      <td>246.264026</td>\n",
              "      <td>51.830751</td>\n",
              "      <td>126.0</td>\n",
              "      <td>211.0</td>\n",
              "      <td>240.0</td>\n",
              "      <td>274.5</td>\n",
              "      <td>564.0</td>\n",
              "    </tr>\n",
              "    <tr>\n",
              "      <th>fbs</th>\n",
              "      <td>303.0</td>\n",
              "      <td>0.148515</td>\n",
              "      <td>0.356198</td>\n",
              "      <td>0.0</td>\n",
              "      <td>0.0</td>\n",
              "      <td>0.0</td>\n",
              "      <td>0.0</td>\n",
              "      <td>1.0</td>\n",
              "    </tr>\n",
              "    <tr>\n",
              "      <th>restecg</th>\n",
              "      <td>303.0</td>\n",
              "      <td>0.528053</td>\n",
              "      <td>0.525860</td>\n",
              "      <td>0.0</td>\n",
              "      <td>0.0</td>\n",
              "      <td>1.0</td>\n",
              "      <td>1.0</td>\n",
              "      <td>2.0</td>\n",
              "    </tr>\n",
              "    <tr>\n",
              "      <th>thalachh</th>\n",
              "      <td>303.0</td>\n",
              "      <td>149.646865</td>\n",
              "      <td>22.905161</td>\n",
              "      <td>71.0</td>\n",
              "      <td>133.5</td>\n",
              "      <td>153.0</td>\n",
              "      <td>166.0</td>\n",
              "      <td>202.0</td>\n",
              "    </tr>\n",
              "    <tr>\n",
              "      <th>exng</th>\n",
              "      <td>303.0</td>\n",
              "      <td>0.326733</td>\n",
              "      <td>0.469794</td>\n",
              "      <td>0.0</td>\n",
              "      <td>0.0</td>\n",
              "      <td>0.0</td>\n",
              "      <td>1.0</td>\n",
              "      <td>1.0</td>\n",
              "    </tr>\n",
              "    <tr>\n",
              "      <th>oldpeak</th>\n",
              "      <td>303.0</td>\n",
              "      <td>1.039604</td>\n",
              "      <td>1.161075</td>\n",
              "      <td>0.0</td>\n",
              "      <td>0.0</td>\n",
              "      <td>0.8</td>\n",
              "      <td>1.6</td>\n",
              "      <td>6.2</td>\n",
              "    </tr>\n",
              "    <tr>\n",
              "      <th>slp</th>\n",
              "      <td>303.0</td>\n",
              "      <td>1.399340</td>\n",
              "      <td>0.616226</td>\n",
              "      <td>0.0</td>\n",
              "      <td>1.0</td>\n",
              "      <td>1.0</td>\n",
              "      <td>2.0</td>\n",
              "      <td>2.0</td>\n",
              "    </tr>\n",
              "    <tr>\n",
              "      <th>caa</th>\n",
              "      <td>303.0</td>\n",
              "      <td>0.729373</td>\n",
              "      <td>1.022606</td>\n",
              "      <td>0.0</td>\n",
              "      <td>0.0</td>\n",
              "      <td>0.0</td>\n",
              "      <td>1.0</td>\n",
              "      <td>4.0</td>\n",
              "    </tr>\n",
              "    <tr>\n",
              "      <th>thall</th>\n",
              "      <td>303.0</td>\n",
              "      <td>2.313531</td>\n",
              "      <td>0.612277</td>\n",
              "      <td>0.0</td>\n",
              "      <td>2.0</td>\n",
              "      <td>2.0</td>\n",
              "      <td>3.0</td>\n",
              "      <td>3.0</td>\n",
              "    </tr>\n",
              "    <tr>\n",
              "      <th>output</th>\n",
              "      <td>303.0</td>\n",
              "      <td>0.544554</td>\n",
              "      <td>0.498835</td>\n",
              "      <td>0.0</td>\n",
              "      <td>0.0</td>\n",
              "      <td>1.0</td>\n",
              "      <td>1.0</td>\n",
              "      <td>1.0</td>\n",
              "    </tr>\n",
              "  </tbody>\n",
              "</table>\n",
              "</div>"
            ],
            "text/plain": [
              "          count        mean        std    min    25%    50%    75%    max\n",
              "age       303.0   54.366337   9.082101   29.0   47.5   55.0   61.0   77.0\n",
              "sex       303.0    0.683168   0.466011    0.0    0.0    1.0    1.0    1.0\n",
              "cp        303.0    0.966997   1.032052    0.0    0.0    1.0    2.0    3.0\n",
              "trtbps    303.0  131.623762  17.538143   94.0  120.0  130.0  140.0  200.0\n",
              "chol      303.0  246.264026  51.830751  126.0  211.0  240.0  274.5  564.0\n",
              "fbs       303.0    0.148515   0.356198    0.0    0.0    0.0    0.0    1.0\n",
              "restecg   303.0    0.528053   0.525860    0.0    0.0    1.0    1.0    2.0\n",
              "thalachh  303.0  149.646865  22.905161   71.0  133.5  153.0  166.0  202.0\n",
              "exng      303.0    0.326733   0.469794    0.0    0.0    0.0    1.0    1.0\n",
              "oldpeak   303.0    1.039604   1.161075    0.0    0.0    0.8    1.6    6.2\n",
              "slp       303.0    1.399340   0.616226    0.0    1.0    1.0    2.0    2.0\n",
              "caa       303.0    0.729373   1.022606    0.0    0.0    0.0    1.0    4.0\n",
              "thall     303.0    2.313531   0.612277    0.0    2.0    2.0    3.0    3.0\n",
              "output    303.0    0.544554   0.498835    0.0    0.0    1.0    1.0    1.0"
            ]
          },
          "execution_count": 8,
          "metadata": {},
          "output_type": "execute_result"
        }
      ],
      "source": [
        "dataset.describe().T"
      ]
    },
    {
      "cell_type": "code",
      "execution_count": 9,
      "metadata": {
        "colab": {
          "base_uri": "https://localhost:8080/",
          "height": 488
        },
        "id": "l9_4PjGYmB66",
        "outputId": "56db89f1-aaa1-48d3-f166-918e4a8161f2"
      },
      "outputs": [
        {
          "data": {
            "text/html": [
              "<div>\n",
              "<style scoped>\n",
              "    .dataframe tbody tr th:only-of-type {\n",
              "        vertical-align: middle;\n",
              "    }\n",
              "\n",
              "    .dataframe tbody tr th {\n",
              "        vertical-align: top;\n",
              "    }\n",
              "\n",
              "    .dataframe thead th {\n",
              "        text-align: right;\n",
              "    }\n",
              "</style>\n",
              "<table border=\"1\" class=\"dataframe\">\n",
              "  <thead>\n",
              "    <tr style=\"text-align: right;\">\n",
              "      <th></th>\n",
              "      <th>unique values</th>\n",
              "    </tr>\n",
              "  </thead>\n",
              "  <tbody>\n",
              "    <tr>\n",
              "      <th>age</th>\n",
              "      <td>41</td>\n",
              "    </tr>\n",
              "    <tr>\n",
              "      <th>sex</th>\n",
              "      <td>2</td>\n",
              "    </tr>\n",
              "    <tr>\n",
              "      <th>cp</th>\n",
              "      <td>4</td>\n",
              "    </tr>\n",
              "    <tr>\n",
              "      <th>trtbps</th>\n",
              "      <td>49</td>\n",
              "    </tr>\n",
              "    <tr>\n",
              "      <th>chol</th>\n",
              "      <td>152</td>\n",
              "    </tr>\n",
              "    <tr>\n",
              "      <th>fbs</th>\n",
              "      <td>2</td>\n",
              "    </tr>\n",
              "    <tr>\n",
              "      <th>restecg</th>\n",
              "      <td>3</td>\n",
              "    </tr>\n",
              "    <tr>\n",
              "      <th>thalachh</th>\n",
              "      <td>91</td>\n",
              "    </tr>\n",
              "    <tr>\n",
              "      <th>exng</th>\n",
              "      <td>2</td>\n",
              "    </tr>\n",
              "    <tr>\n",
              "      <th>oldpeak</th>\n",
              "      <td>40</td>\n",
              "    </tr>\n",
              "    <tr>\n",
              "      <th>slp</th>\n",
              "      <td>3</td>\n",
              "    </tr>\n",
              "    <tr>\n",
              "      <th>caa</th>\n",
              "      <td>5</td>\n",
              "    </tr>\n",
              "    <tr>\n",
              "      <th>thall</th>\n",
              "      <td>4</td>\n",
              "    </tr>\n",
              "    <tr>\n",
              "      <th>output</th>\n",
              "      <td>2</td>\n",
              "    </tr>\n",
              "  </tbody>\n",
              "</table>\n",
              "</div>"
            ],
            "text/plain": [
              "          unique values\n",
              "age                  41\n",
              "sex                   2\n",
              "cp                    4\n",
              "trtbps               49\n",
              "chol                152\n",
              "fbs                   2\n",
              "restecg               3\n",
              "thalachh             91\n",
              "exng                  2\n",
              "oldpeak              40\n",
              "slp                   3\n",
              "caa                   5\n",
              "thall                 4\n",
              "output                2"
            ]
          },
          "execution_count": 9,
          "metadata": {},
          "output_type": "execute_result"
        }
      ],
      "source": [
        "temp_dict = {}\n",
        "for i in dataset.columns:\n",
        "    temp_dict[i] = dataset[i].value_counts().shape[0]\n",
        "    \n",
        "unique_value = pd.DataFrame(temp_dict, index=['unique values']).transpose()\n",
        "unique_value # checking number of unique values in each column"
      ]
    },
    {
      "cell_type": "code",
      "execution_count": 10,
      "metadata": {
        "colab": {
          "base_uri": "https://localhost:8080/"
        },
        "id": "hOdWR6c4mXeq",
        "outputId": "e3fe24d7-b3dc-4847-97f2-41ed2d6a4b07"
      },
      "outputs": [
        {
          "name": "stdout",
          "output_type": "stream",
          "text": [
            "1\n",
            "1\n",
            "(303, 14)\n"
          ]
        }
      ],
      "source": [
        "print(dataset.duplicated().sum())\n",
        "df=dataset.drop_duplicates(keep=\"first\")\n",
        "print(dataset.duplicated().sum())\n",
        "print(dataset.shape)"
      ]
    },
    {
      "cell_type": "markdown",
      "metadata": {
        "id": "2y343wWTnPux"
      },
      "source": [
        "#Exploring the data(EDA)"
      ]
    },
    {
      "cell_type": "code",
      "execution_count": 11,
      "metadata": {
        "colab": {
          "base_uri": "https://localhost:8080/",
          "height": 607
        },
        "id": "Df8Hr5PkdKOs",
        "outputId": "df1efc28-6adc-4b42-bbda-5c3bf8754e80"
      },
      "outputs": [
        {
          "data": {
            "image/png": "[encoded data removed]",
            "text/plain": [
              "<Figure size 1000x1000 with 16 Axes>"
            ]
          },
          "metadata": {},
          "output_type": "display_data"
        }
      ],
      "source": [
        "p = dataset.hist(figsize = (10,10))"
      ]
    },
    {
      "cell_type": "code",
      "execution_count": 12,
      "metadata": {
        "colab": {
          "base_uri": "https://localhost:8080/"
        },
        "id": "GjF4R-n9dfIl",
        "outputId": "488a3081-9095-4555-e410-b9ecc9bbc6bb"
      },
      "outputs": [
        {
          "data": {
            "text/plain": [
              "1    165\n",
              "0    138\n",
              "Name: output, dtype: int64"
            ]
          },
          "execution_count": 12,
          "metadata": {},
          "output_type": "execute_result"
        }
      ],
      "source": [
        "dataset['output'].value_counts()"
      ]
    },
    {
      "cell_type": "code",
      "execution_count": 13,
      "metadata": {
        "colab": {
          "base_uri": "https://localhost:8080/",
          "height": 353
        },
        "id": "gooC8wGLdl8m",
        "outputId": "3f374f84-c43b-434e-f733-0d5531fc33b3"
      },
      "outputs": [
        {
          "data": {
            "text/plain": [
              "<AxesSubplot:ylabel='count'>"
            ]
          },
          "execution_count": 13,
          "metadata": {},
          "output_type": "execute_result"
        },
        {
          "data": {
            "image/png": "[encoded data removed]",
            "text/plain": [
              "<Figure size 640x480 with 1 Axes>"
            ]
          },
          "metadata": {},
          "output_type": "display_data"
        }
      ],
      "source": [
        "sns.countplot(dataset['output'])"
      ]
    },
    {
      "cell_type": "code",
      "execution_count": 14,
      "metadata": {
        "colab": {
          "base_uri": "https://localhost:8080/",
          "height": 520
        },
        "id": "qeKPia8xdu6s",
        "outputId": "27efb085-38d5-4009-e5e8-b33f04da6a45"
      },
      "outputs": [
        {
          "data": {
            "image/png": "[encoded data removed]",
            "text/plain": [
              "<Figure size 1000x800 with 2 Axes>"
            ]
          },
          "metadata": {},
          "output_type": "display_data"
        }
      ],
      "source": [
        "plt.figure(figsize=(10,8))\n",
        "p = sns.heatmap(dataset.corr(),cmap=\"Blues\", annot=True)"
      ]
    },
    {
      "cell_type": "code",
      "execution_count": 15,
      "metadata": {
        "id": "wI8WYlLum3-p"
      },
      "outputs": [],
      "source": [
        "cat_cols = ['sex','chest pain type','fasting blood sugar','resting ecg','exercise angina','ST slope'] # categorical variables\n",
        "con_cols = ['age','resting bp s','cholesterol','max heart rate','oldpeak'] # continuous variables\n",
        "target_col = ['output'] # target / dependant variable"
      ]
    },
    {
      "cell_type": "markdown",
      "metadata": {
        "id": "Cb5F2_qRn4OJ"
      },
      "source": [
        "### Continuous data"
      ]
    },
    {
      "cell_type": "markdown",
      "metadata": {
        "id": "DyK8DZXlsJEX"
      },
      "source": [
        "## Categorical data"
      ]
    },
    {
      "cell_type": "markdown",
      "metadata": {
        "id": "wfWMJqrLJXMx"
      },
      "source": [
        "### Relation of data with target"
      ]
    },
    {
      "cell_type": "code",
      "execution_count": 16,
      "metadata": {
        "id": "g7rjxk8GgvCD"
      },
      "outputs": [],
      "source": [
        "X=dataset.iloc[:,:-1].values\n",
        "y=dataset.iloc[:,-1].values"
      ]
    },
    {
      "cell_type": "code",
      "execution_count": 17,
      "metadata": {
        "colab": {
          "base_uri": "https://localhost:8080/"
        },
        "id": "wkSdrW1siPHn",
        "outputId": "ef2f5e85-8193-4178-e3c0-d7d20a52b14a"
      },
      "outputs": [
        {
          "data": {
            "text/plain": [
              "(303, 14)"
            ]
          },
          "execution_count": 17,
          "metadata": {},
          "output_type": "execute_result"
        }
      ],
      "source": [
        "dataset.shape"
      ]
    },
    {
      "cell_type": "code",
      "execution_count": 18,
      "metadata": {
        "colab": {
          "base_uri": "https://localhost:8080/"
        },
        "id": "YSdHytPIblDf",
        "outputId": "0dea3b1f-90e9-44b2-89df-533c1f0c4448"
      },
      "outputs": [
        {
          "data": {
            "text/plain": [
              "age         0\n",
              "sex         0\n",
              "cp          0\n",
              "trtbps      0\n",
              "chol        0\n",
              "fbs         0\n",
              "restecg     0\n",
              "thalachh    0\n",
              "exng        0\n",
              "oldpeak     0\n",
              "slp         0\n",
              "caa         0\n",
              "thall       0\n",
              "output      0\n",
              "dtype: int64"
            ]
          },
          "execution_count": 18,
          "metadata": {},
          "output_type": "execute_result"
        }
      ],
      "source": [
        "dataset.isnull().sum()"
      ]
    },
    {
      "cell_type": "markdown",
      "metadata": {
        "id": "suYiGY8aiZm2"
      },
      "source": [
        "#Splitting the dataset into the Training set and Test set"
      ]
    },
    {
      "cell_type": "code",
      "execution_count": 19,
      "metadata": {
        "id": "n3tj43mdiKjp"
      },
      "outputs": [],
      "source": [
        "from sklearn.model_selection import train_test_split\n",
        "X_train, X_test, y_train, y_test = train_test_split(X, y, test_size = 0.2, random_state = 0)"
      ]
    },
    {
      "cell_type": "markdown",
      "metadata": {
        "id": "YeW9gL8ti1a1"
      },
      "source": [
        "#Feature Scaling"
      ]
    },
    {
      "cell_type": "code",
      "execution_count": 20,
      "metadata": {
        "id": "fua-qBsWid29"
      },
      "outputs": [],
      "source": [
        "from sklearn.preprocessing import StandardScaler\n",
        "sc=StandardScaler()\n",
        "X_train[:, 3:8]=sc.fit_transform(X_train[:,3:8])\n",
        "X_test[:, 3:8]=sc.transform(X_test[:, 3:8])"
      ]
    },
    {
      "cell_type": "markdown",
      "metadata": {
        "id": "rrS5JyvjXCgs"
      },
      "source": [
        "#Logistic Regression"
      ]
    },
    {
      "cell_type": "code",
      "execution_count": 21,
      "metadata": {
        "colab": {
          "base_uri": "https://localhost:8080/",
          "height": 220
        },
        "id": "skaMxHEHi6_L",
        "outputId": "0c7f32fd-8fbb-4907-98a4-75bb724ebfa3"
      },
      "outputs": [
        {
          "name": "stderr",
          "output_type": "stream",
          "text": [
            "/Users/maanaav/miniforge3/envs/ip/lib/python3.9/site-packages/sklearn/linear_model/_logistic.py:814: ConvergenceWarning: lbfgs failed to converge (status=1):\n",
            "STOP: TOTAL NO. of ITERATIONS REACHED LIMIT.\n",
            "\n",
            "Increase the number of iterations (max_iter) or scale the data as shown in:\n",
            "    https://scikit-learn.org/stable/modules/preprocessing.html\n",
            "Please also refer to the documentation for alternative solver options:\n",
            "    https://scikit-learn.org/stable/modules/linear_model.html#logistic-regression\n",
            "  n_iter_i = _check_optimize_result(\n"
          ]
        },
        {
          "data": {
            "text/plain": [
              "LogisticRegression(random_state=0)"
            ]
          },
          "execution_count": 21,
          "metadata": {},
          "output_type": "execute_result"
        }
      ],
      "source": [
        "from sklearn.linear_model import LogisticRegression\n",
        "classifier = LogisticRegression(random_state = 0)\n",
        "classifier.fit(X_train, y_train)"
      ]
    },
    {
      "cell_type": "code",
      "execution_count": 22,
      "metadata": {
        "colab": {
          "base_uri": "https://localhost:8080/"
        },
        "id": "9snrFavGi_Bw",
        "outputId": "8778437b-3cde-4d1b-a4ec-e673a9d92f40"
      },
      "outputs": [
        {
          "name": "stdout",
          "output_type": "stream",
          "text": [
            "[[21  6]\n",
            " [ 3 31]]\n",
            "Predictive Accuracy achieved for Logistic Regression: 85.24590163934425\n"
          ]
        }
      ],
      "source": [
        "from sklearn.metrics import confusion_matrix, accuracy_score\n",
        "y_pred = classifier.predict(X_test)\n",
        "cm = confusion_matrix(y_test, y_pred)\n",
        "print(cm)\n",
        "print('Predictive Accuracy achieved for Logistic Regression:',accuracy_score(y_test, y_pred)*100)\n",
        "acc_lr=accuracy_score(y_test, y_pred)*100"
      ]
    },
    {
      "cell_type": "code",
      "execution_count": 23,
      "metadata": {
        "colab": {
          "base_uri": "https://localhost:8080/"
        },
        "id": "gJb3o50akR7R",
        "outputId": "0730addb-fa08-4012-a2de-c509b636e600"
      },
      "outputs": [
        {
          "name": "stdout",
          "output_type": "stream",
          "text": [
            "Precision: 83.78378378378379\n",
            "Recall: 91.17647058823529\n",
            "F1-score: 87.32394366197184\n"
          ]
        }
      ],
      "source": [
        "from sklearn.metrics import precision_score\n",
        "precision = precision_score(y_test, y_pred, average='binary')\n",
        "print('Precision:',precision*100)\n",
        "\n",
        "from sklearn.metrics import recall_score\n",
        "recall = recall_score(y_test, y_pred, average='binary')\n",
        "print('Recall:',recall*100)\n",
        "\n",
        "from sklearn.metrics import f1_score\n",
        "score = f1_score(y_test, y_pred, average='binary')\n",
        "print('F1-score:',score*100)"
      ]
    },
    {
      "cell_type": "markdown",
      "metadata": {
        "id": "dJXZ0I3CXMZN"
      },
      "source": [
        "#SVM\n"
      ]
    },
    {
      "cell_type": "code",
      "execution_count": 24,
      "metadata": {
        "colab": {
          "base_uri": "https://localhost:8080/",
          "height": 74
        },
        "id": "MoxiJnnrnEk2",
        "outputId": "7602ed3d-a17b-4546-b40e-2bc6769455eb"
      },
      "outputs": [
        {
          "data": {
            "text/plain": [
              "SVC(random_state=0)"
            ]
          },
          "execution_count": 24,
          "metadata": {},
          "output_type": "execute_result"
        }
      ],
      "source": [
        "from sklearn.svm import SVC\n",
        "classifier = SVC(kernel = 'rbf', random_state = 0)\n",
        "classifier.fit(X_train, y_train)"
      ]
    },
    {
      "cell_type": "code",
      "execution_count": 25,
      "metadata": {
        "colab": {
          "base_uri": "https://localhost:8080/"
        },
        "id": "d8PjAwpLnapB",
        "outputId": "b1901350-8c2a-418b-92ec-5121cac8699d"
      },
      "outputs": [
        {
          "name": "stdout",
          "output_type": "stream",
          "text": [
            "[[15 12]\n",
            " [ 6 28]]\n",
            "Predictive Accuracy achieved for SVM: 70.49180327868852\n"
          ]
        }
      ],
      "source": [
        "from sklearn.metrics import confusion_matrix, accuracy_score\n",
        "y_pred = classifier.predict(X_test)\n",
        "cm = confusion_matrix(y_test, y_pred)\n",
        "print(cm)\n",
        "print('Predictive Accuracy achieved for SVM:',accuracy_score(y_test, y_pred)*100)"
      ]
    },
    {
      "cell_type": "code",
      "execution_count": 26,
      "metadata": {
        "colab": {
          "base_uri": "https://localhost:8080/"
        },
        "id": "IGUlRuXjnrJr",
        "outputId": "cf301610-d3dd-43c4-e092-73b72df6840c"
      },
      "outputs": [
        {
          "name": "stdout",
          "output_type": "stream",
          "text": [
            "Precision: 70.0\n",
            "Recall: 82.35294117647058\n",
            "F1-score: 75.67567567567566\n"
          ]
        }
      ],
      "source": [
        "from sklearn.metrics import precision_score\n",
        "precision = precision_score(y_test, y_pred, average='binary')\n",
        "print('Precision:',precision*100)\n",
        "\n",
        "from sklearn.metrics import recall_score\n",
        "recall = recall_score(y_test, y_pred, average='binary')\n",
        "print('Recall:',recall*100)\n",
        "\n",
        "from sklearn.metrics import f1_score\n",
        "score = f1_score(y_test, y_pred, average='binary')\n",
        "print('F1-score:',score*100)"
      ]
    },
    {
      "cell_type": "markdown",
      "metadata": {
        "id": "c8ATnnFikV4b"
      },
      "source": [
        "As we have a higher recall for both Logistic regression and SVM(how many of the actual positive instances our model was able to predict), we can say that it is a optimal model, since we will be classifying a larger number of patients having heart disease(As the proportion of having a heart disease based on the features is greater in the given dataset).  precision is lower because out of a large number of patients predicted having heart disease some of them won’t actually have heart disease upon further diagnosis. "
      ]
    },
    {
      "cell_type": "markdown",
      "metadata": {
        "id": "mXYEvitOXPKk"
      },
      "source": [
        "#KNN\n"
      ]
    },
    {
      "cell_type": "code",
      "execution_count": 27,
      "metadata": {
        "colab": {
          "base_uri": "https://localhost:8080/",
          "height": 74
        },
        "id": "8aoQd38Qnxjn",
        "outputId": "0e8f6b40-1b86-4138-c768-8c732b6aa72e"
      },
      "outputs": [
        {
          "data": {
            "text/plain": [
              "KNeighborsClassifier()"
            ]
          },
          "execution_count": 27,
          "metadata": {},
          "output_type": "execute_result"
        }
      ],
      "source": [
        "from sklearn.neighbors import KNeighborsClassifier\n",
        "classifier = KNeighborsClassifier(n_neighbors = 5, metric = 'minkowski', p = 2)\n",
        "classifier.fit(X_train, y_train)"
      ]
    },
    {
      "cell_type": "code",
      "execution_count": 28,
      "metadata": {
        "colab": {
          "base_uri": "https://localhost:8080/",
          "height": 90
        },
        "id": "UKimIQBxXT-G",
        "outputId": "1a14b517-cb51-4fd7-f4cb-637cb834f594"
      },
      "outputs": [
        {
          "name": "stdout",
          "output_type": "stream",
          "text": [
            "[[16 11]\n",
            " [ 2 32]]\n",
            "Predictive Accuracy achieved for KNN: 78.68852459016394\n"
          ]
        },
        {
          "data": {
            "text/plain": [
              "'78.68852459016394'"
            ]
          },
          "execution_count": 28,
          "metadata": {},
          "output_type": "execute_result"
        }
      ],
      "source": [
        "from sklearn.metrics import confusion_matrix, accuracy_score\n",
        "y_pred = classifier.predict(X_test)\n",
        "cm = confusion_matrix(y_test, y_pred)\n",
        "print(cm)\n",
        "print('Predictive Accuracy achieved for KNN:',accuracy_score(y_test, y_pred)*100)\n",
        "acc_knn=accuracy_score(y_test, y_pred)*100\n",
        "str(acc_knn)"
      ]
    },
    {
      "cell_type": "code",
      "execution_count": 29,
      "metadata": {
        "colab": {
          "base_uri": "https://localhost:8080/"
        },
        "id": "4ho0miFBXW3X",
        "outputId": "39e741e5-aa4b-4fd2-a57a-c730e6824508"
      },
      "outputs": [
        {
          "name": "stdout",
          "output_type": "stream",
          "text": [
            "Precision: 74.4186046511628\n",
            "Recall: 94.11764705882352\n",
            "F1-score: 83.11688311688312\n"
          ]
        }
      ],
      "source": [
        "from sklearn.metrics import precision_score\n",
        "precision = precision_score(y_test, y_pred, average='binary')\n",
        "print('Precision:',precision*100)\n",
        "\n",
        "from sklearn.metrics import recall_score\n",
        "recall = recall_score(y_test, y_pred, average='binary')\n",
        "print('Recall:',recall*100)\n",
        "\n",
        "from sklearn.metrics import f1_score\n",
        "score = f1_score(y_test, y_pred, average='binary')\n",
        "print('F1-score:',score*100)"
      ]
    },
    {
      "cell_type": "markdown",
      "metadata": {
        "id": "Wzxfy5WXX9gK"
      },
      "source": [
        "#Naive Bayes\n"
      ]
    },
    {
      "cell_type": "code",
      "execution_count": 30,
      "metadata": {
        "colab": {
          "base_uri": "https://localhost:8080/",
          "height": 74
        },
        "id": "PrASeN_zaIaM",
        "outputId": "a1334a19-bf41-47e2-c429-9370d85459a8"
      },
      "outputs": [
        {
          "data": {
            "text/plain": [
              "GaussianNB()"
            ]
          },
          "execution_count": 30,
          "metadata": {},
          "output_type": "execute_result"
        }
      ],
      "source": [
        "from sklearn.naive_bayes import GaussianNB\n",
        "classifier = GaussianNB()\n",
        "classifier.fit(X_train, y_train)"
      ]
    },
    {
      "cell_type": "code",
      "execution_count": 31,
      "metadata": {
        "colab": {
          "base_uri": "https://localhost:8080/"
        },
        "id": "30rxC7tnYBRD",
        "outputId": "a56d8e6c-ec25-4e92-80ba-bc3b9a20b4b4"
      },
      "outputs": [
        {
          "name": "stdout",
          "output_type": "stream",
          "text": [
            "[[21  6]\n",
            " [ 3 31]]\n",
            "Predictive Accuracy achieved for Naive Bayes: 85.24590163934425\n"
          ]
        }
      ],
      "source": [
        "from sklearn.metrics import confusion_matrix, accuracy_score\n",
        "y_pred = classifier.predict(X_test)\n",
        "cm = confusion_matrix(y_test, y_pred)\n",
        "print(cm)\n",
        "print('Predictive Accuracy achieved for Naive Bayes:',accuracy_score(y_test, y_pred)*100)\n",
        "acc_nb=accuracy_score(y_test, y_pred)*100"
      ]
    },
    {
      "cell_type": "code",
      "execution_count": 32,
      "metadata": {
        "colab": {
          "base_uri": "https://localhost:8080/"
        },
        "id": "CKVw3-xtaM5N",
        "outputId": "51278d9f-a171-4852-86a8-d59ae94fdb28"
      },
      "outputs": [
        {
          "name": "stdout",
          "output_type": "stream",
          "text": [
            "Precision: 83.78378378378379\n",
            "Recall: 91.17647058823529\n",
            "F1-score: 87.32394366197184\n"
          ]
        }
      ],
      "source": [
        "from sklearn.metrics import precision_score\n",
        "precision = precision_score(y_test, y_pred, average='binary')\n",
        "print('Precision:',precision*100)\n",
        "\n",
        "from sklearn.metrics import recall_score\n",
        "recall = recall_score(y_test, y_pred, average='binary')\n",
        "print('Recall:',recall*100)\n",
        "\n",
        "from sklearn.metrics import f1_score\n",
        "score = f1_score(y_test, y_pred, average='binary')\n",
        "print('F1-score:',score*100)"
      ]
    },
    {
      "cell_type": "markdown",
      "metadata": {
        "id": "nPP1091aayzT"
      },
      "source": [
        "#Decision Tree"
      ]
    },
    {
      "cell_type": "code",
      "execution_count": 33,
      "metadata": {
        "colab": {
          "base_uri": "https://localhost:8080/",
          "height": 74
        },
        "id": "hcRwWAl6bAY6",
        "outputId": "e41cfab2-c1f0-496a-f9c9-18039f4ecdd6"
      },
      "outputs": [
        {
          "data": {
            "text/plain": [
              "DecisionTreeClassifier(criterion='entropy', random_state=0)"
            ]
          },
          "execution_count": 33,
          "metadata": {},
          "output_type": "execute_result"
        }
      ],
      "source": [
        "from sklearn.tree import DecisionTreeClassifier\n",
        "classifier = DecisionTreeClassifier(criterion = 'entropy', random_state = 0)\n",
        "classifier.fit(X_train, y_train)"
      ]
    },
    {
      "cell_type": "code",
      "execution_count": 34,
      "metadata": {
        "colab": {
          "base_uri": "https://localhost:8080/"
        },
        "id": "b7SHyZVjbBaS",
        "outputId": "c7d4b352-c32b-4888-ea34-62eae88318fa"
      },
      "outputs": [
        {
          "name": "stdout",
          "output_type": "stream",
          "text": [
            "[[22  5]\n",
            " [ 8 26]]\n",
            "Predictive Accuracy achieved for Decision Tree: 78.68852459016394\n"
          ]
        }
      ],
      "source": [
        "from sklearn.metrics import confusion_matrix, accuracy_score\n",
        "y_pred = classifier.predict(X_test)\n",
        "cm = confusion_matrix(y_test, y_pred)\n",
        "print(cm)\n",
        "print('Predictive Accuracy achieved for Decision Tree:',accuracy_score(y_test, y_pred)*100)\n",
        "acc_dt=accuracy_score(y_test, y_pred)*100"
      ]
    },
    {
      "cell_type": "code",
      "execution_count": 35,
      "metadata": {
        "colab": {
          "base_uri": "https://localhost:8080/"
        },
        "id": "qBmh3VagbFix",
        "outputId": "e28eca29-d8d9-4198-9401-2db26a94aa28"
      },
      "outputs": [
        {
          "name": "stdout",
          "output_type": "stream",
          "text": [
            "Precision: 83.87096774193549\n",
            "Recall: 76.47058823529412\n",
            "F1-score: 80.0\n"
          ]
        }
      ],
      "source": [
        "from sklearn.metrics import precision_score\n",
        "precision = precision_score(y_test, y_pred, average='binary')\n",
        "print('Precision:',precision*100)\n",
        "\n",
        "from sklearn.metrics import recall_score\n",
        "recall = recall_score(y_test, y_pred, average='binary')\n",
        "print('Recall:',recall*100)\n",
        "\n",
        "from sklearn.metrics import f1_score\n",
        "score = f1_score(y_test, y_pred, average='binary')\n",
        "print('F1-score:',score*100)"
      ]
    },
    {
      "cell_type": "markdown",
      "metadata": {
        "id": "a_yTeVXcLo6c"
      },
      "source": [
        "#Ensemble"
      ]
    },
    {
      "cell_type": "markdown",
      "metadata": {
        "id": "n2hn-Zpha2JU"
      },
      "source": [
        "#Random Forest "
      ]
    },
    {
      "cell_type": "code",
      "execution_count": 36,
      "metadata": {
        "colab": {
          "base_uri": "https://localhost:8080/",
          "height": 74
        },
        "id": "Lc4kKEO3bldI",
        "outputId": "bcf0a8a4-77f2-476b-fc5b-e8f390f13057"
      },
      "outputs": [
        {
          "data": {
            "text/plain": [
              "RandomForestClassifier(criterion='entropy', n_estimators=10, random_state=0)"
            ]
          },
          "execution_count": 36,
          "metadata": {},
          "output_type": "execute_result"
        }
      ],
      "source": [
        "from sklearn.ensemble import RandomForestClassifier\n",
        "classifier = RandomForestClassifier(n_estimators = 10, criterion = 'entropy', random_state = 0)\n",
        "classifier.fit(X_train, y_train)"
      ]
    },
    {
      "cell_type": "code",
      "execution_count": 37,
      "metadata": {
        "colab": {
          "base_uri": "https://localhost:8080/"
        },
        "id": "lvfxhoG0_pVm",
        "outputId": "f90812fb-ae13-4b8a-ef55-deb1b0dc2f80"
      },
      "outputs": [
        {
          "name": "stdout",
          "output_type": "stream",
          "text": [
            "[[23  4]\n",
            " [ 5 29]]\n",
            "Predictive Accuracy achieved for RFC: 85.24590163934425\n"
          ]
        }
      ],
      "source": [
        "from sklearn.metrics import confusion_matrix, accuracy_score\n",
        "y_pred = classifier.predict(X_test)\n",
        "cm = confusion_matrix(y_test, y_pred)\n",
        "print(cm)\n",
        "print('Predictive Accuracy achieved for RFC:',accuracy_score(y_test, y_pred)*100)\n",
        "acc_rfc=accuracy_score(y_test, y_pred)*100"
      ]
    },
    {
      "cell_type": "code",
      "execution_count": 38,
      "metadata": {
        "colab": {
          "base_uri": "https://localhost:8080/"
        },
        "id": "y-D1HVzh_xjf",
        "outputId": "f5d06912-d09f-45ee-f235-deba3e2d18b8"
      },
      "outputs": [
        {
          "name": "stdout",
          "output_type": "stream",
          "text": [
            "Precision: 87.87878787878788\n",
            "Recall: 85.29411764705883\n",
            "F1-score: 86.56716417910447\n"
          ]
        }
      ],
      "source": [
        "from sklearn.metrics import precision_score\n",
        "precision = precision_score(y_test, y_pred, average='binary')\n",
        "print('Precision:',precision*100)\n",
        "\n",
        "from sklearn.metrics import recall_score\n",
        "recall = recall_score(y_test, y_pred, average='binary')\n",
        "print('Recall:',recall*100)\n",
        "\n",
        "from sklearn.metrics import f1_score\n",
        "score = f1_score(y_test, y_pred, average='binary')\n",
        "print('F1-score:',score*100)"
      ]
    },
    {
      "cell_type": "markdown",
      "metadata": {
        "id": "q0lnvKtJaSec"
      },
      "source": [
        "#XGBoost\n"
      ]
    },
    {
      "cell_type": "code",
      "execution_count": 39,
      "metadata": {
        "colab": {
          "base_uri": "https://localhost:8080/",
          "height": 248
        },
        "id": "TzGNZpqYaQza",
        "outputId": "caf0a63d-e988-409c-fa2d-325d0caeacb0"
      },
      "outputs": [
        {
          "data": {
            "text/plain": [
              "XGBClassifier(base_score=None, booster=None, callbacks=None,\n",
              "              colsample_bylevel=None, colsample_bynode=None,\n",
              "              colsample_bytree=None, early_stopping_rounds=None,\n",
              "              enable_categorical=False, eval_metric=None, feature_types=None,\n",
              "              gamma=None, gpu_id=None, grow_policy=None, importance_type=None,\n",
              "              interaction_constraints=None, learning_rate=None, max_bin=None,\n",
              "              max_cat_threshold=None, max_cat_to_onehot=None,\n",
              "              max_delta_step=None, max_depth=None, max_leaves=None,\n",
              "              min_child_weight=None, missing=nan, monotone_constraints=None,\n",
              "              n_estimators=100, n_jobs=None, num_parallel_tree=None,\n",
              "              predictor=None, random_state=None, ...)"
            ]
          },
          "execution_count": 39,
          "metadata": {},
          "output_type": "execute_result"
        }
      ],
      "source": [
        "from xgboost import XGBClassifier\n",
        "classifier = XGBClassifier()\n",
        "classifier.fit(X_train, y_train)"
      ]
    },
    {
      "cell_type": "code",
      "execution_count": 40,
      "metadata": {
        "colab": {
          "base_uri": "https://localhost:8080/"
        },
        "id": "AK9CcEMk_6a6",
        "outputId": "e21840f4-5da0-4731-a464-4662e32262b1"
      },
      "outputs": [
        {
          "name": "stdout",
          "output_type": "stream",
          "text": [
            "[[21  6]\n",
            " [ 7 27]]\n",
            "Predictive Accuracy achieved for XGBoost: 78.68852459016394\n"
          ]
        }
      ],
      "source": [
        "from sklearn.metrics import confusion_matrix, accuracy_score\n",
        "y_pred = classifier.predict(X_test)\n",
        "cm = confusion_matrix(y_test, y_pred)\n",
        "print(cm)\n",
        "print('Predictive Accuracy achieved for XGBoost:',accuracy_score(y_test, y_pred)*100)"
      ]
    },
    {
      "cell_type": "code",
      "execution_count": 41,
      "metadata": {
        "colab": {
          "base_uri": "https://localhost:8080/"
        },
        "id": "lJkb9Ryk__Zn",
        "outputId": "1b066ac9-3bee-425b-950b-1096667ee013"
      },
      "outputs": [
        {
          "name": "stdout",
          "output_type": "stream",
          "text": [
            "Precision: 81.81818181818183\n",
            "Recall: 79.41176470588235\n",
            "F1-score: 80.59701492537314\n"
          ]
        }
      ],
      "source": [
        "from sklearn.metrics import precision_score\n",
        "precision = precision_score(y_test, y_pred, average='binary')\n",
        "print('Precision:',precision*100)\n",
        "\n",
        "from sklearn.metrics import recall_score\n",
        "recall = recall_score(y_test, y_pred, average='binary')\n",
        "print('Recall:',recall*100)\n",
        "\n",
        "from sklearn.metrics import f1_score\n",
        "score = f1_score(y_test, y_pred, average='binary')\n",
        "print('F1-score:',score*100)"
      ]
    },
    {
      "cell_type": "code",
      "execution_count": 42,
      "metadata": {
        "colab": {
          "base_uri": "https://localhost:8080/"
        },
        "id": "CtpZYZ-eCaxw",
        "outputId": "f99fd3e6-97db-41a2-f4f8-d4b99eccdb46"
      },
      "outputs": [
        {
          "name": "stdout",
          "output_type": "stream",
          "text": [
            "Accuracy: 78.55 %\n",
            "Standard Deviation: 3.62 %\n"
          ]
        }
      ],
      "source": [
        "from sklearn.model_selection import cross_val_score\n",
        "accuracies = cross_val_score(estimator = classifier, X = X_train, y = y_train)\n",
        "print(\"Accuracy: {:.2f} %\".format(accuracies.mean()*100))\n",
        "print(\"Standard Deviation: {:.2f} %\".format(accuracies.std()*100))"
      ]
    },
    {
      "cell_type": "markdown",
      "metadata": {
        "id": "xzYqfvWJOwQt"
      },
      "source": [
        "#AdaBoost"
      ]
    },
    {
      "cell_type": "code",
      "execution_count": 43,
      "metadata": {
        "colab": {
          "base_uri": "https://localhost:8080/",
          "height": 173
        },
        "id": "9W9-DPCyMuTp",
        "outputId": "3923b715-0696-4bdf-806c-e8c04e463e4f"
      },
      "outputs": [
        {
          "data": {
            "text/plain": [
              "AdaBoostClassifier(base_estimator=DecisionTreeClassifier(max_depth=1),\n",
              "                   n_estimators=100, random_state=42)"
            ]
          },
          "execution_count": 43,
          "metadata": {},
          "output_type": "execute_result"
        }
      ],
      "source": [
        "from sklearn.ensemble import AdaBoostClassifier\n",
        "from sklearn.tree import DecisionTreeClassifier\n",
        "from sklearn.datasets import make_classification\n",
        "\n",
        "base_estimator = DecisionTreeClassifier(max_depth=1)\n",
        "ada = AdaBoostClassifier(base_estimator=base_estimator, n_estimators=100, random_state=42)\n",
        "ada.fit(X_train, y_train)"
      ]
    },
    {
      "cell_type": "code",
      "execution_count": 44,
      "metadata": {
        "id": "ElfdSF7HONlU"
      },
      "outputs": [],
      "source": [
        "y_pred = ada.predict(X_test)"
      ]
    },
    {
      "cell_type": "code",
      "execution_count": 45,
      "metadata": {
        "colab": {
          "base_uri": "https://localhost:8080/"
        },
        "id": "qkAJJzV2OaAL",
        "outputId": "db3a4ae9-9272-4334-a030-cc590bd68963"
      },
      "outputs": [
        {
          "name": "stdout",
          "output_type": "stream",
          "text": [
            "[[24  3]\n",
            " [ 7 27]]\n",
            "Predictive Accuracy achieved for AdaBoost: 83.60655737704919\n"
          ]
        }
      ],
      "source": [
        "from sklearn.metrics import confusion_matrix\n",
        "cm = confusion_matrix(y_test, y_pred)\n",
        "print(cm)\n",
        "\n",
        "accuracy = ada.score(X_test, y_test)\n",
        "print('Predictive Accuracy achieved for AdaBoost:', accuracy*100)"
      ]
    },
    {
      "cell_type": "code",
      "execution_count": 46,
      "metadata": {
        "colab": {
          "base_uri": "https://localhost:8080/"
        },
        "id": "BX2zGialXS0a",
        "outputId": "8be96a90-124d-4968-d0d4-b11553a55213"
      },
      "outputs": [
        {
          "name": "stdout",
          "output_type": "stream",
          "text": [
            "Precision: 90.0\n",
            "Recall: 79.41176470588235\n",
            "F1-score: 84.375\n"
          ]
        }
      ],
      "source": [
        "from sklearn.metrics import precision_score\n",
        "precision = precision_score(y_test, y_pred, average='binary')\n",
        "print('Precision:',precision*100)\n",
        "\n",
        "from sklearn.metrics import recall_score\n",
        "recall = recall_score(y_test, y_pred, average='binary')\n",
        "print('Recall:',recall*100)\n",
        "\n",
        "from sklearn.metrics import f1_score\n",
        "score = f1_score(y_test, y_pred, average='binary')\n",
        "print('F1-score:',score*100)"
      ]
    },
    {
      "cell_type": "markdown",
      "metadata": {
        "id": "dYZGpH0DW3Bg"
      },
      "source": [
        "#Gradient Boosting"
      ]
    },
    {
      "cell_type": "code",
      "execution_count": 47,
      "metadata": {
        "id": "HlbrbuooW0Yn"
      },
      "outputs": [],
      "source": [
        "from sklearn.ensemble import GradientBoostingClassifier"
      ]
    },
    {
      "cell_type": "code",
      "execution_count": 48,
      "metadata": {
        "colab": {
          "base_uri": "https://localhost:8080/",
          "height": 74
        },
        "id": "VigheYMUW-pJ",
        "outputId": "84f5df7c-b0ce-43c6-a439-0247bc443e2b"
      },
      "outputs": [
        {
          "data": {
            "text/plain": [
              "GradientBoostingClassifier(random_state=42)"
            ]
          },
          "execution_count": 48,
          "metadata": {},
          "output_type": "execute_result"
        }
      ],
      "source": [
        "clf = GradientBoostingClassifier(n_estimators=100, random_state=42)\n",
        "clf.fit(X_train, y_train)"
      ]
    },
    {
      "cell_type": "code",
      "execution_count": 49,
      "metadata": {
        "id": "SHjq5OlJXFbX"
      },
      "outputs": [],
      "source": [
        "y_pred1 = clf.predict(X_test)"
      ]
    },
    {
      "cell_type": "code",
      "execution_count": 50,
      "metadata": {
        "colab": {
          "base_uri": "https://localhost:8080/"
        },
        "id": "zAEh_Ic-XKIH",
        "outputId": "5d0cc1ae-2826-45df-87f1-55b5d80efd3c"
      },
      "outputs": [
        {
          "name": "stdout",
          "output_type": "stream",
          "text": [
            "[[24  3]\n",
            " [ 7 27]]\n",
            "Predictive Accuracy achieved for AdaBoost: 80.32786885245902\n"
          ]
        }
      ],
      "source": [
        "from sklearn.metrics import confusion_matrix\n",
        "cm = confusion_matrix(y_test, y_pred)\n",
        "print(cm)\n",
        "\n",
        "accuracy = clf.score(X_test, y_test)\n",
        "print('Predictive Accuracy achieved for AdaBoost:', accuracy*100)"
      ]
    },
    {
      "cell_type": "code",
      "execution_count": 51,
      "metadata": {
        "colab": {
          "base_uri": "https://localhost:8080/"
        },
        "id": "zpKbt8wRXdx3",
        "outputId": "234dbdb0-b6e0-4f9b-a0a0-ff766f681ce3"
      },
      "outputs": [
        {
          "name": "stdout",
          "output_type": "stream",
          "text": [
            "Precision: 82.35294117647058\n",
            "Recall: 82.35294117647058\n",
            "F1-score: 82.35294117647058\n"
          ]
        }
      ],
      "source": [
        "from sklearn.metrics import precision_score\n",
        "precision = precision_score(y_test, y_pred1, average='binary')\n",
        "print('Precision:',precision*100)\n",
        "\n",
        "from sklearn.metrics import recall_score\n",
        "recall = recall_score(y_test, y_pred1, average='binary')\n",
        "print('Recall:',recall*100)\n",
        "\n",
        "from sklearn.metrics import f1_score\n",
        "score = f1_score(y_test, y_pred1, average='binary')\n",
        "print('F1-score:',score*100)"
      ]
    },
    {
      "cell_type": "markdown",
      "metadata": {
        "id": "0VrUjf4HACII"
      },
      "source": [
        "#ANN\n"
      ]
    },
    {
      "cell_type": "code",
      "execution_count": 52,
      "metadata": {
        "id": "pCEFjD1jp7uZ"
      },
      "outputs": [
        {
          "name": "stdout",
          "output_type": "stream",
          "text": [
            "Metal device set to: Apple M1 Pro\n",
            "\n",
            "systemMemory: 16.00 GB\n",
            "maxCacheSize: 5.33 GB\n",
            "\n"
          ]
        },
        {
          "name": "stderr",
          "output_type": "stream",
          "text": [
            "2023-03-12 10:50:43.859672: I tensorflow/core/common_runtime/pluggable_device/pluggable_device_factory.cc:305] Could not identify NUMA node of platform GPU ID 0, defaulting to 0. Your kernel may not have been built with NUMA support.\n",
            "2023-03-12 10:50:43.860284: I tensorflow/core/common_runtime/pluggable_device/pluggable_device_factory.cc:271] Created TensorFlow device (/job:localhost/replica:0/task:0/device:GPU:0 with 0 MB memory) -> physical PluggableDevice (device: 0, name: METAL, pci bus id: <undefined>)\n"
          ]
        }
      ],
      "source": [
        "ann = tf.keras.models.Sequential()"
      ]
    },
    {
      "cell_type": "code",
      "execution_count": 53,
      "metadata": {
        "id": "4E2LLOL_qeMx"
      },
      "outputs": [],
      "source": [
        "ann.add(tf.keras.layers.Dense(units=8, activation='relu'))\n",
        "ann.add(tf.keras.layers.Dropout(0.2))\n",
        "ann.add(tf.keras.layers.Dense(units=6, activation='tanh'))\n",
        "ann.add(tf.keras.layers.Dropout(0.2))\n",
        "ann.add(tf.keras.layers.Dense(units=5, activation='tanh'))\n",
        "ann.add(tf.keras.layers.Dropout(0.2))\n",
        "ann.add(tf.keras.layers.Dense(units=1, activation='sigmoid'))"
      ]
    },
    {
      "cell_type": "code",
      "execution_count": 54,
      "metadata": {
        "id": "yQg64x-uqgQv"
      },
      "outputs": [],
      "source": [
        "optimizer = tf.keras.optimizers.Adam(learning_rate=0.01)\n",
        "ann.compile(optimizer = optimizer, loss = 'binary_crossentropy', metrics = ['accuracy'])"
      ]
    },
    {
      "cell_type": "code",
      "execution_count": 55,
      "metadata": {
        "colab": {
          "base_uri": "https://localhost:8080/"
        },
        "id": "aPZauZb8qg6L",
        "outputId": "c3dc9b12-37aa-4c44-83a2-40ed2d04d428"
      },
      "outputs": [
        {
          "name": "stderr",
          "output_type": "stream",
          "text": [
            "2023-03-12 10:50:44.071472: I tensorflow/compiler/mlir/mlir_graph_optimization_pass.cc:176] None of the MLIR Optimization Passes are enabled (registered 2)\n",
            "2023-03-12 10:50:44.074335: W tensorflow/core/platform/profile_utils/cpu_utils.cc:128] Failed to get CPU frequency: 0 Hz\n"
          ]
        },
        {
          "name": "stdout",
          "output_type": "stream",
          "text": [
            "Epoch 1/100\n"
          ]
        },
        {
          "name": "stderr",
          "output_type": "stream",
          "text": [
            "2023-03-12 10:50:44.413886: I tensorflow/core/grappler/optimizers/custom_graph_optimizer_registry.cc:112] Plugin optimizer for device_type GPU is enabled.\n"
          ]
        },
        {
          "name": "stdout",
          "output_type": "stream",
          "text": [
            "11/11 [==============================] - 1s 80ms/step - loss: 0.7301 - accuracy: 0.4876 - val_loss: 0.6888 - val_accuracy: 0.5574\n",
            "Epoch 2/100\n",
            " 1/11 [=>............................] - ETA: 0s - loss: 0.7854 - accuracy: 0.4167"
          ]
        },
        {
          "name": "stderr",
          "output_type": "stream",
          "text": [
            "2023-03-12 10:50:45.370126: I tensorflow/core/grappler/optimizers/custom_graph_optimizer_registry.cc:112] Plugin optimizer for device_type GPU is enabled.\n"
          ]
        },
        {
          "name": "stdout",
          "output_type": "stream",
          "text": [
            "11/11 [==============================] - 0s 17ms/step - loss: 0.7126 - accuracy: 0.5041 - val_loss: 0.6928 - val_accuracy: 0.5574\n",
            "Epoch 3/100\n",
            "11/11 [==============================] - 0s 14ms/step - loss: 0.7211 - accuracy: 0.5000 - val_loss: 0.6884 - val_accuracy: 0.5574\n",
            "Epoch 4/100\n",
            "11/11 [==============================] - 0s 14ms/step - loss: 0.7095 - accuracy: 0.5289 - val_loss: 0.6828 - val_accuracy: 0.5574\n",
            "Epoch 5/100\n",
            "11/11 [==============================] - 0s 14ms/step - loss: 0.6932 - accuracy: 0.5496 - val_loss: 0.6487 - val_accuracy: 0.6885\n",
            "Epoch 6/100\n",
            "11/11 [==============================] - 0s 13ms/step - loss: 0.6784 - accuracy: 0.5992 - val_loss: 0.6382 - val_accuracy: 0.6066\n",
            "Epoch 7/100\n",
            "11/11 [==============================] - 0s 14ms/step - loss: 0.6695 - accuracy: 0.6281 - val_loss: 0.6240 - val_accuracy: 0.8197\n",
            "Epoch 8/100\n",
            "11/11 [==============================] - 0s 13ms/step - loss: 0.6360 - accuracy: 0.6942 - val_loss: 0.6003 - val_accuracy: 0.8033\n",
            "Epoch 9/100\n",
            "11/11 [==============================] - 0s 13ms/step - loss: 0.6341 - accuracy: 0.6777 - val_loss: 0.5701 - val_accuracy: 0.8033\n",
            "Epoch 10/100\n",
            "11/11 [==============================] - 0s 13ms/step - loss: 0.6174 - accuracy: 0.6777 - val_loss: 0.6323 - val_accuracy: 0.6885\n",
            "Epoch 11/100\n",
            "11/11 [==============================] - 0s 14ms/step - loss: 0.6019 - accuracy: 0.7149 - val_loss: 0.5290 - val_accuracy: 0.8033\n",
            "Epoch 12/100\n",
            "11/11 [==============================] - 0s 14ms/step - loss: 0.5927 - accuracy: 0.6860 - val_loss: 0.5072 - val_accuracy: 0.8361\n",
            "Epoch 13/100\n",
            "11/11 [==============================] - 0s 13ms/step - loss: 0.5772 - accuracy: 0.6983 - val_loss: 0.4898 - val_accuracy: 0.8033\n",
            "Epoch 14/100\n",
            "11/11 [==============================] - 0s 14ms/step - loss: 0.6209 - accuracy: 0.6818 - val_loss: 0.5028 - val_accuracy: 0.8033\n",
            "Epoch 15/100\n",
            "11/11 [==============================] - 0s 13ms/step - loss: 0.5748 - accuracy: 0.7355 - val_loss: 0.4828 - val_accuracy: 0.8197\n",
            "Epoch 16/100\n",
            "11/11 [==============================] - 0s 13ms/step - loss: 0.5456 - accuracy: 0.7479 - val_loss: 0.4747 - val_accuracy: 0.8197\n",
            "Epoch 17/100\n",
            "11/11 [==============================] - 0s 13ms/step - loss: 0.5164 - accuracy: 0.7521 - val_loss: 0.4885 - val_accuracy: 0.7869\n",
            "Epoch 18/100\n",
            "11/11 [==============================] - 0s 13ms/step - loss: 0.5297 - accuracy: 0.7521 - val_loss: 0.5709 - val_accuracy: 0.6885\n",
            "Epoch 19/100\n",
            "11/11 [==============================] - 0s 14ms/step - loss: 0.5208 - accuracy: 0.7769 - val_loss: 0.5070 - val_accuracy: 0.7869\n",
            "Epoch 20/100\n",
            "11/11 [==============================] - 0s 14ms/step - loss: 0.5811 - accuracy: 0.7562 - val_loss: 0.4593 - val_accuracy: 0.8197\n",
            "Epoch 21/100\n",
            "11/11 [==============================] - 0s 13ms/step - loss: 0.4442 - accuracy: 0.7893 - val_loss: 0.4788 - val_accuracy: 0.8033\n",
            "Epoch 22/100\n",
            "11/11 [==============================] - 0s 13ms/step - loss: 0.6025 - accuracy: 0.7562 - val_loss: 0.5349 - val_accuracy: 0.7541\n",
            "Epoch 23/100\n",
            "11/11 [==============================] - 0s 13ms/step - loss: 0.5510 - accuracy: 0.7355 - val_loss: 0.4646 - val_accuracy: 0.8033\n",
            "Epoch 24/100\n",
            "11/11 [==============================] - 0s 13ms/step - loss: 0.5448 - accuracy: 0.7438 - val_loss: 0.4431 - val_accuracy: 0.8197\n",
            "Epoch 25/100\n",
            "11/11 [==============================] - 0s 13ms/step - loss: 0.4605 - accuracy: 0.8223 - val_loss: 0.5232 - val_accuracy: 0.7541\n",
            "Epoch 26/100\n",
            "11/11 [==============================] - 0s 13ms/step - loss: 0.4901 - accuracy: 0.7686 - val_loss: 0.4855 - val_accuracy: 0.8033\n",
            "Epoch 27/100\n",
            "11/11 [==============================] - 0s 13ms/step - loss: 0.4960 - accuracy: 0.8017 - val_loss: 0.4825 - val_accuracy: 0.7705\n",
            "Epoch 28/100\n",
            "11/11 [==============================] - 0s 13ms/step - loss: 0.5031 - accuracy: 0.7645 - val_loss: 0.4747 - val_accuracy: 0.8197\n",
            "Epoch 29/100\n",
            "11/11 [==============================] - 0s 13ms/step - loss: 0.4758 - accuracy: 0.7934 - val_loss: 0.5251 - val_accuracy: 0.7869\n",
            "Epoch 30/100\n",
            "11/11 [==============================] - 0s 13ms/step - loss: 0.5239 - accuracy: 0.7769 - val_loss: 0.4621 - val_accuracy: 0.8033\n",
            "Epoch 31/100\n",
            "11/11 [==============================] - 0s 13ms/step - loss: 0.4897 - accuracy: 0.8017 - val_loss: 0.4814 - val_accuracy: 0.8033\n",
            "Epoch 32/100\n",
            "11/11 [==============================] - 0s 13ms/step - loss: 0.4819 - accuracy: 0.7851 - val_loss: 0.4605 - val_accuracy: 0.8033\n",
            "Epoch 33/100\n",
            "11/11 [==============================] - 0s 13ms/step - loss: 0.4852 - accuracy: 0.7727 - val_loss: 0.4889 - val_accuracy: 0.8033\n",
            "Epoch 34/100\n",
            "11/11 [==============================] - 0s 13ms/step - loss: 0.4229 - accuracy: 0.8306 - val_loss: 0.4852 - val_accuracy: 0.8197\n",
            "Epoch 35/100\n",
            "11/11 [==============================] - 0s 14ms/step - loss: 0.4940 - accuracy: 0.7893 - val_loss: 0.4826 - val_accuracy: 0.8197\n",
            "Epoch 36/100\n",
            "11/11 [==============================] - 0s 13ms/step - loss: 0.4758 - accuracy: 0.8099 - val_loss: 0.5148 - val_accuracy: 0.7869\n",
            "Epoch 37/100\n",
            "11/11 [==============================] - 0s 13ms/step - loss: 0.4949 - accuracy: 0.7810 - val_loss: 0.4518 - val_accuracy: 0.8033\n",
            "Epoch 38/100\n",
            "11/11 [==============================] - 0s 13ms/step - loss: 0.5303 - accuracy: 0.7562 - val_loss: 0.4613 - val_accuracy: 0.8197\n",
            "Epoch 39/100\n",
            "11/11 [==============================] - 0s 13ms/step - loss: 0.4840 - accuracy: 0.8182 - val_loss: 0.4549 - val_accuracy: 0.7869\n",
            "Epoch 40/100\n",
            "11/11 [==============================] - 0s 14ms/step - loss: 0.5711 - accuracy: 0.7562 - val_loss: 0.4634 - val_accuracy: 0.8197\n",
            "Epoch 41/100\n",
            "11/11 [==============================] - 0s 13ms/step - loss: 0.5303 - accuracy: 0.7893 - val_loss: 0.4667 - val_accuracy: 0.7869\n",
            "Epoch 42/100\n",
            "11/11 [==============================] - 0s 16ms/step - loss: 0.4781 - accuracy: 0.8058 - val_loss: 0.4744 - val_accuracy: 0.8197\n",
            "Epoch 43/100\n",
            "11/11 [==============================] - 0s 14ms/step - loss: 0.5178 - accuracy: 0.7934 - val_loss: 0.4785 - val_accuracy: 0.8033\n",
            "Epoch 44/100\n",
            "11/11 [==============================] - 0s 14ms/step - loss: 0.4599 - accuracy: 0.7975 - val_loss: 0.4870 - val_accuracy: 0.8033\n",
            "Epoch 45/100\n",
            "11/11 [==============================] - 0s 13ms/step - loss: 0.4815 - accuracy: 0.8058 - val_loss: 0.4886 - val_accuracy: 0.7869\n",
            "Epoch 46/100\n",
            "11/11 [==============================] - 0s 13ms/step - loss: 0.4945 - accuracy: 0.7851 - val_loss: 0.4649 - val_accuracy: 0.8033\n",
            "Epoch 47/100\n",
            "11/11 [==============================] - 0s 14ms/step - loss: 0.4637 - accuracy: 0.8099 - val_loss: 0.4571 - val_accuracy: 0.8197\n",
            "Epoch 48/100\n",
            "11/11 [==============================] - 0s 14ms/step - loss: 0.4897 - accuracy: 0.7686 - val_loss: 0.4733 - val_accuracy: 0.8033\n",
            "Epoch 49/100\n",
            "11/11 [==============================] - 0s 14ms/step - loss: 0.4978 - accuracy: 0.7314 - val_loss: 0.4501 - val_accuracy: 0.8197\n",
            "Epoch 50/100\n",
            "11/11 [==============================] - 0s 14ms/step - loss: 0.5248 - accuracy: 0.7438 - val_loss: 0.4347 - val_accuracy: 0.8033\n",
            "Epoch 51/100\n",
            "11/11 [==============================] - 0s 13ms/step - loss: 0.4477 - accuracy: 0.7893 - val_loss: 0.4355 - val_accuracy: 0.8197\n",
            "Epoch 52/100\n",
            "11/11 [==============================] - 0s 13ms/step - loss: 0.4779 - accuracy: 0.7851 - val_loss: 0.4680 - val_accuracy: 0.8197\n",
            "Epoch 53/100\n",
            "11/11 [==============================] - 0s 13ms/step - loss: 0.4327 - accuracy: 0.8264 - val_loss: 0.4555 - val_accuracy: 0.7869\n",
            "Epoch 54/100\n",
            "11/11 [==============================] - 0s 13ms/step - loss: 0.4402 - accuracy: 0.8140 - val_loss: 0.4355 - val_accuracy: 0.8197\n",
            "Epoch 55/100\n",
            "11/11 [==============================] - 0s 14ms/step - loss: 0.5083 - accuracy: 0.7686 - val_loss: 0.4791 - val_accuracy: 0.8197\n",
            "Epoch 56/100\n",
            "11/11 [==============================] - 0s 14ms/step - loss: 0.4850 - accuracy: 0.8182 - val_loss: 0.4747 - val_accuracy: 0.8197\n",
            "Epoch 57/100\n",
            "11/11 [==============================] - 0s 13ms/step - loss: 0.4650 - accuracy: 0.8058 - val_loss: 0.4704 - val_accuracy: 0.8197\n",
            "Epoch 58/100\n",
            "11/11 [==============================] - 0s 13ms/step - loss: 0.4541 - accuracy: 0.8223 - val_loss: 0.4799 - val_accuracy: 0.8033\n",
            "Epoch 59/100\n",
            "11/11 [==============================] - 0s 13ms/step - loss: 0.4332 - accuracy: 0.8264 - val_loss: 0.4521 - val_accuracy: 0.8197\n",
            "Epoch 60/100\n",
            "11/11 [==============================] - 0s 14ms/step - loss: 0.4764 - accuracy: 0.7975 - val_loss: 0.4662 - val_accuracy: 0.8033\n",
            "Epoch 61/100\n",
            "11/11 [==============================] - 0s 13ms/step - loss: 0.4918 - accuracy: 0.7975 - val_loss: 0.4386 - val_accuracy: 0.8197\n",
            "Epoch 62/100\n",
            "11/11 [==============================] - 0s 13ms/step - loss: 0.4738 - accuracy: 0.8099 - val_loss: 0.5052 - val_accuracy: 0.7705\n",
            "Epoch 63/100\n",
            "11/11 [==============================] - 0s 13ms/step - loss: 0.4416 - accuracy: 0.8306 - val_loss: 0.4642 - val_accuracy: 0.8033\n",
            "Epoch 64/100\n",
            "11/11 [==============================] - 0s 13ms/step - loss: 0.4289 - accuracy: 0.8099 - val_loss: 0.4813 - val_accuracy: 0.8033\n",
            "Epoch 65/100\n",
            "11/11 [==============================] - 0s 13ms/step - loss: 0.4564 - accuracy: 0.8182 - val_loss: 0.4793 - val_accuracy: 0.7869\n",
            "Epoch 66/100\n",
            "11/11 [==============================] - 0s 14ms/step - loss: 0.4676 - accuracy: 0.8058 - val_loss: 0.4186 - val_accuracy: 0.8525\n",
            "Epoch 67/100\n",
            "11/11 [==============================] - 0s 13ms/step - loss: 0.4701 - accuracy: 0.8264 - val_loss: 0.4562 - val_accuracy: 0.8361\n",
            "Epoch 68/100\n",
            "11/11 [==============================] - 0s 13ms/step - loss: 0.4399 - accuracy: 0.8306 - val_loss: 0.4652 - val_accuracy: 0.8033\n",
            "Epoch 69/100\n",
            "11/11 [==============================] - 0s 13ms/step - loss: 0.4762 - accuracy: 0.8264 - val_loss: 0.4769 - val_accuracy: 0.7869\n",
            "Epoch 70/100\n",
            "11/11 [==============================] - 0s 13ms/step - loss: 0.4493 - accuracy: 0.7934 - val_loss: 0.4333 - val_accuracy: 0.8197\n",
            "Epoch 71/100\n",
            "11/11 [==============================] - 0s 13ms/step - loss: 0.4981 - accuracy: 0.7934 - val_loss: 0.4487 - val_accuracy: 0.8033\n",
            "Epoch 72/100\n",
            "11/11 [==============================] - 0s 13ms/step - loss: 0.4336 - accuracy: 0.8306 - val_loss: 0.4807 - val_accuracy: 0.8033\n",
            "Epoch 73/100\n",
            "11/11 [==============================] - 0s 13ms/step - loss: 0.4516 - accuracy: 0.8264 - val_loss: 0.4743 - val_accuracy: 0.7869\n",
            "Epoch 74/100\n",
            "11/11 [==============================] - 0s 13ms/step - loss: 0.4199 - accuracy: 0.8347 - val_loss: 0.4435 - val_accuracy: 0.7869\n",
            "Epoch 75/100\n",
            "11/11 [==============================] - 0s 13ms/step - loss: 0.4298 - accuracy: 0.8223 - val_loss: 0.4293 - val_accuracy: 0.8525\n",
            "Epoch 76/100\n",
            "11/11 [==============================] - 0s 13ms/step - loss: 0.4796 - accuracy: 0.8017 - val_loss: 0.4322 - val_accuracy: 0.8033\n",
            "Epoch 77/100\n",
            "11/11 [==============================] - 0s 13ms/step - loss: 0.4418 - accuracy: 0.8140 - val_loss: 0.4735 - val_accuracy: 0.7869\n",
            "Epoch 78/100\n",
            "11/11 [==============================] - 0s 13ms/step - loss: 0.5027 - accuracy: 0.8017 - val_loss: 0.4556 - val_accuracy: 0.8197\n",
            "Epoch 79/100\n",
            "11/11 [==============================] - 0s 13ms/step - loss: 0.4552 - accuracy: 0.8140 - val_loss: 0.4436 - val_accuracy: 0.8197\n",
            "Epoch 80/100\n",
            "11/11 [==============================] - 0s 13ms/step - loss: 0.4452 - accuracy: 0.8017 - val_loss: 0.4777 - val_accuracy: 0.8361\n",
            "Epoch 81/100\n",
            "11/11 [==============================] - 0s 16ms/step - loss: 0.4886 - accuracy: 0.8182 - val_loss: 0.5058 - val_accuracy: 0.8197\n",
            "Epoch 82/100\n",
            "11/11 [==============================] - 0s 15ms/step - loss: 0.5433 - accuracy: 0.7851 - val_loss: 0.4745 - val_accuracy: 0.8033\n",
            "Epoch 83/100\n",
            "11/11 [==============================] - 0s 15ms/step - loss: 0.5043 - accuracy: 0.7769 - val_loss: 0.4804 - val_accuracy: 0.7869\n",
            "Epoch 84/100\n",
            "11/11 [==============================] - 0s 15ms/step - loss: 0.4391 - accuracy: 0.8347 - val_loss: 0.4724 - val_accuracy: 0.8033\n",
            "Epoch 85/100\n",
            "11/11 [==============================] - 0s 14ms/step - loss: 0.4864 - accuracy: 0.8223 - val_loss: 0.4525 - val_accuracy: 0.8033\n",
            "Epoch 86/100\n",
            "11/11 [==============================] - 0s 15ms/step - loss: 0.4747 - accuracy: 0.8140 - val_loss: 0.4442 - val_accuracy: 0.8197\n",
            "Epoch 87/100\n",
            "11/11 [==============================] - 0s 19ms/step - loss: 0.4451 - accuracy: 0.8264 - val_loss: 0.4589 - val_accuracy: 0.8033\n",
            "Epoch 88/100\n",
            "11/11 [==============================] - 0s 14ms/step - loss: 0.4230 - accuracy: 0.8223 - val_loss: 0.4505 - val_accuracy: 0.8197\n",
            "Epoch 89/100\n",
            "11/11 [==============================] - 0s 15ms/step - loss: 0.4324 - accuracy: 0.8430 - val_loss: 0.4876 - val_accuracy: 0.7869\n",
            "Epoch 90/100\n",
            "11/11 [==============================] - 0s 14ms/step - loss: 0.4473 - accuracy: 0.8182 - val_loss: 0.5284 - val_accuracy: 0.7541\n",
            "Epoch 91/100\n",
            "11/11 [==============================] - 0s 17ms/step - loss: 0.4591 - accuracy: 0.8099 - val_loss: 0.4591 - val_accuracy: 0.8197\n",
            "Epoch 92/100\n",
            "11/11 [==============================] - 0s 14ms/step - loss: 0.4420 - accuracy: 0.8182 - val_loss: 0.4491 - val_accuracy: 0.8525\n",
            "Epoch 93/100\n",
            "11/11 [==============================] - 0s 14ms/step - loss: 0.4610 - accuracy: 0.8099 - val_loss: 0.4829 - val_accuracy: 0.7869\n",
            "Epoch 94/100\n",
            "11/11 [==============================] - 0s 15ms/step - loss: 0.4304 - accuracy: 0.8182 - val_loss: 0.4846 - val_accuracy: 0.8197\n",
            "Epoch 95/100\n",
            "11/11 [==============================] - 0s 14ms/step - loss: 0.4776 - accuracy: 0.8017 - val_loss: 0.4881 - val_accuracy: 0.7869\n",
            "Epoch 96/100\n",
            "11/11 [==============================] - 0s 14ms/step - loss: 0.3837 - accuracy: 0.8636 - val_loss: 0.4525 - val_accuracy: 0.8197\n",
            "Epoch 97/100\n",
            "11/11 [==============================] - 0s 14ms/step - loss: 0.4052 - accuracy: 0.8678 - val_loss: 0.4801 - val_accuracy: 0.7869\n",
            "Epoch 98/100\n",
            "11/11 [==============================] - 0s 15ms/step - loss: 0.4346 - accuracy: 0.8430 - val_loss: 0.4830 - val_accuracy: 0.8197\n",
            "Epoch 99/100\n",
            "11/11 [==============================] - 0s 14ms/step - loss: 0.4335 - accuracy: 0.8306 - val_loss: 0.4293 - val_accuracy: 0.8197\n",
            "Epoch 100/100\n",
            "11/11 [==============================] - 0s 14ms/step - loss: 0.4650 - accuracy: 0.8099 - val_loss: 0.4447 - val_accuracy: 0.8361\n"
          ]
        },
        {
          "data": {
            "text/plain": [
              "<tensorflow.python.keras.callbacks.History at 0x286540430>"
            ]
          },
          "execution_count": 55,
          "metadata": {},
          "output_type": "execute_result"
        }
      ],
      "source": [
        "ann.fit(X_train, y_train, batch_size = 24, epochs = 100, validation_data=(X_test, y_test))"
      ]
    },
    {
      "cell_type": "code",
      "execution_count": 56,
      "metadata": {
        "colab": {
          "base_uri": "https://localhost:8080/"
        },
        "id": "fpakluOtqjj9",
        "outputId": "0371f23b-6458-4002-fcc4-137be02baf7a"
      },
      "outputs": [
        {
          "name": "stdout",
          "output_type": "stream",
          "text": [
            "[[24  3]\n",
            " [ 7 27]]\n",
            "Predictive Accuracy achieved for ANN: 83.60655737704919\n"
          ]
        }
      ],
      "source": [
        "cm = confusion_matrix(y_test, y_pred)\n",
        "print(cm)\n",
        "print('Predictive Accuracy achieved for ANN:', accuracy_score(y_test, y_pred)*100)"
      ]
    },
    {
      "cell_type": "code",
      "execution_count": 57,
      "metadata": {
        "colab": {
          "base_uri": "https://localhost:8080/"
        },
        "id": "4YHPlFhFqthE",
        "outputId": "90e022b3-4952-423a-b234-04e7d6904ed8"
      },
      "outputs": [
        {
          "name": "stdout",
          "output_type": "stream",
          "text": [
            "Precision: 90.0\n",
            "Recall: 79.41176470588235\n",
            "F1-score: 84.375\n"
          ]
        }
      ],
      "source": [
        "precision = precision_score(y_test, y_pred, average='binary')\n",
        "print('Precision:',precision*100)\n",
        "\n",
        "recall = recall_score(y_test, y_pred, average='binary')\n",
        "print('Recall:',recall*100)\n",
        "\n",
        "score = f1_score(y_test, y_pred, average='binary')\n",
        "print('F1-score:',score*100)"
      ]
    },
    {
      "cell_type": "code",
      "execution_count": 58,
      "metadata": {
        "id": "vpSy_jSzAD0g"
      },
      "outputs": [],
      "source": [
        "ann = tf.keras.models.Sequential()"
      ]
    },
    {
      "cell_type": "code",
      "execution_count": 59,
      "metadata": {
        "id": "N7JLwrW-AwLL"
      },
      "outputs": [],
      "source": [
        "ann.add(tf.keras.layers.Dense(units=8, activation='relu'))\n",
        "ann.add(tf.keras.layers.Dense(units=6, activation='relu'))\n",
        "ann.add(tf.keras.layers.Dense(units=5, activation='relu'))\n",
        "ann.add(tf.keras.layers.Dense(units=1, activation='sigmoid'))"
      ]
    },
    {
      "cell_type": "code",
      "execution_count": 60,
      "metadata": {
        "id": "VDKLRxlfA1Pa"
      },
      "outputs": [],
      "source": [
        "ann.compile(optimizer = 'adam', loss = 'binary_crossentropy', metrics = ['accuracy'])"
      ]
    },
    {
      "cell_type": "code",
      "execution_count": 61,
      "metadata": {
        "colab": {
          "base_uri": "https://localhost:8080/"
        },
        "id": "kFvP5ZO3A4Ki",
        "outputId": "4fdd1dba-8cb0-4efa-b1ed-5c45f01453bd"
      },
      "outputs": [
        {
          "name": "stdout",
          "output_type": "stream",
          "text": [
            "Epoch 1/100\n",
            " 1/11 [=>............................] - ETA: 3s - loss: 1.3769 - accuracy: 0.4167"
          ]
        },
        {
          "name": "stderr",
          "output_type": "stream",
          "text": [
            "2023-03-12 10:51:00.891699: I tensorflow/core/grappler/optimizers/custom_graph_optimizer_registry.cc:112] Plugin optimizer for device_type GPU is enabled.\n"
          ]
        },
        {
          "name": "stdout",
          "output_type": "stream",
          "text": [
            "11/11 [==============================] - 1s 19ms/step - loss: 1.0635 - accuracy: 0.4587\n",
            "Epoch 2/100\n",
            "11/11 [==============================] - 0s 11ms/step - loss: 0.7194 - accuracy: 0.4711\n",
            "Epoch 3/100\n",
            "11/11 [==============================] - 0s 11ms/step - loss: 0.6766 - accuracy: 0.6281\n",
            "Epoch 4/100\n",
            "11/11 [==============================] - 0s 11ms/step - loss: 0.6848 - accuracy: 0.5950\n",
            "Epoch 5/100\n",
            "11/11 [==============================] - 0s 10ms/step - loss: 0.6740 - accuracy: 0.6198\n",
            "Epoch 6/100\n",
            "11/11 [==============================] - 0s 11ms/step - loss: 0.6559 - accuracy: 0.6818\n",
            "Epoch 7/100\n",
            "11/11 [==============================] - 0s 10ms/step - loss: 0.6521 - accuracy: 0.6612\n",
            "Epoch 8/100\n",
            "11/11 [==============================] - 0s 10ms/step - loss: 0.6500 - accuracy: 0.7355\n",
            "Epoch 9/100\n",
            "11/11 [==============================] - 0s 10ms/step - loss: 0.6432 - accuracy: 0.7397\n",
            "Epoch 10/100\n",
            "11/11 [==============================] - 0s 9ms/step - loss: 0.6378 - accuracy: 0.7562\n",
            "Epoch 11/100\n",
            "11/11 [==============================] - 0s 10ms/step - loss: 0.6300 - accuracy: 0.7314\n",
            "Epoch 12/100\n",
            "11/11 [==============================] - 0s 10ms/step - loss: 0.6232 - accuracy: 0.7645\n",
            "Epoch 13/100\n",
            "11/11 [==============================] - 0s 10ms/step - loss: 0.6211 - accuracy: 0.8223\n",
            "Epoch 14/100\n",
            "11/11 [==============================] - 0s 9ms/step - loss: 0.6207 - accuracy: 0.7190\n",
            "Epoch 15/100\n",
            "11/11 [==============================] - 0s 9ms/step - loss: 0.6091 - accuracy: 0.7810\n",
            "Epoch 16/100\n",
            "11/11 [==============================] - 0s 9ms/step - loss: 0.6066 - accuracy: 0.8017\n",
            "Epoch 17/100\n",
            "11/11 [==============================] - 0s 9ms/step - loss: 0.6007 - accuracy: 0.7769\n",
            "Epoch 18/100\n",
            "11/11 [==============================] - 0s 9ms/step - loss: 0.5977 - accuracy: 0.8182\n",
            "Epoch 19/100\n",
            "11/11 [==============================] - 0s 9ms/step - loss: 0.5909 - accuracy: 0.7810\n",
            "Epoch 20/100\n",
            "11/11 [==============================] - 0s 10ms/step - loss: 0.5880 - accuracy: 0.8223\n",
            "Epoch 21/100\n",
            "11/11 [==============================] - 0s 10ms/step - loss: 0.5797 - accuracy: 0.8471\n",
            "Epoch 22/100\n",
            "11/11 [==============================] - 0s 9ms/step - loss: 0.5756 - accuracy: 0.8223\n",
            "Epoch 23/100\n",
            "11/11 [==============================] - 0s 10ms/step - loss: 0.5703 - accuracy: 0.8264\n",
            "Epoch 24/100\n",
            "11/11 [==============================] - 0s 9ms/step - loss: 0.5660 - accuracy: 0.8017\n",
            "Epoch 25/100\n",
            "11/11 [==============================] - 0s 9ms/step - loss: 0.5586 - accuracy: 0.8347\n",
            "Epoch 26/100\n",
            "11/11 [==============================] - 0s 11ms/step - loss: 0.5553 - accuracy: 0.8223\n",
            "Epoch 27/100\n",
            "11/11 [==============================] - 0s 10ms/step - loss: 0.5466 - accuracy: 0.8512\n",
            "Epoch 28/100\n",
            "11/11 [==============================] - 0s 10ms/step - loss: 0.5441 - accuracy: 0.8058\n",
            "Epoch 29/100\n",
            "11/11 [==============================] - 0s 10ms/step - loss: 0.5411 - accuracy: 0.7851\n",
            "Epoch 30/100\n",
            "11/11 [==============================] - 0s 9ms/step - loss: 0.5306 - accuracy: 0.8430\n",
            "Epoch 31/100\n",
            "11/11 [==============================] - 0s 10ms/step - loss: 0.5272 - accuracy: 0.8347\n",
            "Epoch 32/100\n",
            "11/11 [==============================] - 0s 9ms/step - loss: 0.5213 - accuracy: 0.8223\n",
            "Epoch 33/100\n",
            "11/11 [==============================] - 0s 9ms/step - loss: 0.5146 - accuracy: 0.8306\n",
            "Epoch 34/100\n",
            "11/11 [==============================] - 0s 10ms/step - loss: 0.5126 - accuracy: 0.8306\n",
            "Epoch 35/100\n",
            "11/11 [==============================] - 0s 9ms/step - loss: 0.5068 - accuracy: 0.8430\n",
            "Epoch 36/100\n",
            "11/11 [==============================] - 0s 9ms/step - loss: 0.4995 - accuracy: 0.8471\n",
            "Epoch 37/100\n",
            "11/11 [==============================] - 0s 9ms/step - loss: 0.4951 - accuracy: 0.8471\n",
            "Epoch 38/100\n",
            "11/11 [==============================] - 0s 9ms/step - loss: 0.4899 - accuracy: 0.8512\n",
            "Epoch 39/100\n",
            "11/11 [==============================] - 0s 9ms/step - loss: 0.4850 - accuracy: 0.8264\n",
            "Epoch 40/100\n",
            "11/11 [==============================] - 0s 10ms/step - loss: 0.4806 - accuracy: 0.8554\n",
            "Epoch 41/100\n",
            "11/11 [==============================] - 0s 9ms/step - loss: 0.4774 - accuracy: 0.8264\n",
            "Epoch 42/100\n",
            "11/11 [==============================] - 0s 10ms/step - loss: 0.4726 - accuracy: 0.8430\n",
            "Epoch 43/100\n",
            "11/11 [==============================] - 0s 10ms/step - loss: 0.4382 - accuracy: 0.8140\n",
            "Epoch 44/100\n",
            "11/11 [==============================] - 0s 9ms/step - loss: 0.4387 - accuracy: 0.8017\n",
            "Epoch 45/100\n",
            "11/11 [==============================] - 0s 9ms/step - loss: 0.4236 - accuracy: 0.8388\n",
            "Epoch 46/100\n",
            "11/11 [==============================] - 0s 10ms/step - loss: 0.4152 - accuracy: 0.8388\n",
            "Epoch 47/100\n",
            "11/11 [==============================] - 0s 10ms/step - loss: 0.4146 - accuracy: 0.8471\n",
            "Epoch 48/100\n",
            "11/11 [==============================] - 0s 10ms/step - loss: 0.4095 - accuracy: 0.8388\n",
            "Epoch 49/100\n",
            "11/11 [==============================] - 0s 12ms/step - loss: 0.4120 - accuracy: 0.8430\n",
            "Epoch 50/100\n",
            "11/11 [==============================] - 0s 11ms/step - loss: 0.4277 - accuracy: 0.8058\n",
            "Epoch 51/100\n",
            "11/11 [==============================] - 0s 10ms/step - loss: 0.4078 - accuracy: 0.8223\n",
            "Epoch 52/100\n",
            "11/11 [==============================] - 0s 11ms/step - loss: 0.4044 - accuracy: 0.8388\n",
            "Epoch 53/100\n",
            "11/11 [==============================] - 0s 10ms/step - loss: 0.4090 - accuracy: 0.8347\n",
            "Epoch 54/100\n",
            "11/11 [==============================] - 0s 10ms/step - loss: 0.4169 - accuracy: 0.8099\n",
            "Epoch 55/100\n",
            "11/11 [==============================] - 0s 10ms/step - loss: 0.3979 - accuracy: 0.8388\n",
            "Epoch 56/100\n",
            "11/11 [==============================] - 0s 10ms/step - loss: 0.4267 - accuracy: 0.8223\n",
            "Epoch 57/100\n",
            "11/11 [==============================] - 0s 10ms/step - loss: 0.4102 - accuracy: 0.8017\n",
            "Epoch 58/100\n",
            "11/11 [==============================] - 0s 10ms/step - loss: 0.4084 - accuracy: 0.8471\n",
            "Epoch 59/100\n",
            "11/11 [==============================] - 0s 11ms/step - loss: 0.3985 - accuracy: 0.8388\n",
            "Epoch 60/100\n",
            "11/11 [==============================] - 0s 11ms/step - loss: 0.3963 - accuracy: 0.8430\n",
            "Epoch 61/100\n",
            "11/11 [==============================] - 0s 10ms/step - loss: 0.3957 - accuracy: 0.8471\n",
            "Epoch 62/100\n",
            "11/11 [==============================] - 0s 12ms/step - loss: 0.3956 - accuracy: 0.8471\n",
            "Epoch 63/100\n",
            "11/11 [==============================] - 0s 10ms/step - loss: 0.3976 - accuracy: 0.8347\n",
            "Epoch 64/100\n",
            "11/11 [==============================] - 0s 10ms/step - loss: 0.3904 - accuracy: 0.8554\n",
            "Epoch 65/100\n",
            "11/11 [==============================] - 0s 11ms/step - loss: 0.4074 - accuracy: 0.8182\n",
            "Epoch 66/100\n",
            "11/11 [==============================] - 0s 10ms/step - loss: 0.4118 - accuracy: 0.8140\n",
            "Epoch 67/100\n",
            "11/11 [==============================] - 0s 14ms/step - loss: 0.4084 - accuracy: 0.8264\n",
            "Epoch 68/100\n",
            "11/11 [==============================] - 0s 11ms/step - loss: 0.4019 - accuracy: 0.8471\n",
            "Epoch 69/100\n",
            "11/11 [==============================] - 0s 11ms/step - loss: 0.3992 - accuracy: 0.8512\n",
            "Epoch 70/100\n",
            "11/11 [==============================] - 0s 10ms/step - loss: 0.3940 - accuracy: 0.8512\n",
            "Epoch 71/100\n",
            "11/11 [==============================] - 0s 11ms/step - loss: 0.3950 - accuracy: 0.8430\n",
            "Epoch 72/100\n",
            "11/11 [==============================] - 0s 10ms/step - loss: 0.4179 - accuracy: 0.8099\n",
            "Epoch 73/100\n",
            "11/11 [==============================] - 0s 10ms/step - loss: 0.4022 - accuracy: 0.8430\n",
            "Epoch 74/100\n",
            "11/11 [==============================] - 0s 10ms/step - loss: 0.4188 - accuracy: 0.8017\n",
            "Epoch 75/100\n",
            "11/11 [==============================] - 0s 11ms/step - loss: 0.3948 - accuracy: 0.8347\n",
            "Epoch 76/100\n",
            "11/11 [==============================] - 0s 16ms/step - loss: 0.3870 - accuracy: 0.8554\n",
            "Epoch 77/100\n",
            "11/11 [==============================] - 0s 10ms/step - loss: 0.3873 - accuracy: 0.8512\n",
            "Epoch 78/100\n",
            "11/11 [==============================] - 0s 10ms/step - loss: 0.3891 - accuracy: 0.8512\n",
            "Epoch 79/100\n",
            "11/11 [==============================] - 0s 10ms/step - loss: 0.3860 - accuracy: 0.8471\n",
            "Epoch 80/100\n",
            "11/11 [==============================] - 0s 10ms/step - loss: 0.3856 - accuracy: 0.8554\n",
            "Epoch 81/100\n",
            "11/11 [==============================] - 0s 10ms/step - loss: 0.3905 - accuracy: 0.8306\n",
            "Epoch 82/100\n",
            "11/11 [==============================] - 0s 10ms/step - loss: 0.3881 - accuracy: 0.8430\n",
            "Epoch 83/100\n",
            "11/11 [==============================] - 0s 12ms/step - loss: 0.3891 - accuracy: 0.8471\n",
            "Epoch 84/100\n",
            "11/11 [==============================] - 0s 10ms/step - loss: 0.3964 - accuracy: 0.8223\n",
            "Epoch 85/100\n",
            "11/11 [==============================] - 0s 10ms/step - loss: 0.3981 - accuracy: 0.8430\n",
            "Epoch 86/100\n",
            "11/11 [==============================] - 0s 14ms/step - loss: 0.3831 - accuracy: 0.8554\n",
            "Epoch 87/100\n",
            "11/11 [==============================] - 0s 11ms/step - loss: 0.3849 - accuracy: 0.8595\n",
            "Epoch 88/100\n",
            "11/11 [==============================] - 0s 10ms/step - loss: 0.3879 - accuracy: 0.8430\n",
            "Epoch 89/100\n",
            "11/11 [==============================] - 0s 10ms/step - loss: 0.3987 - accuracy: 0.8223\n",
            "Epoch 90/100\n",
            "11/11 [==============================] - 0s 11ms/step - loss: 0.3882 - accuracy: 0.8430\n",
            "Epoch 91/100\n",
            "11/11 [==============================] - 0s 10ms/step - loss: 0.3791 - accuracy: 0.8595\n",
            "Epoch 92/100\n",
            "11/11 [==============================] - 0s 10ms/step - loss: 0.4107 - accuracy: 0.8140\n",
            "Epoch 93/100\n",
            "11/11 [==============================] - 0s 10ms/step - loss: 0.3872 - accuracy: 0.8471\n",
            "Epoch 94/100\n",
            "11/11 [==============================] - 0s 10ms/step - loss: 0.3826 - accuracy: 0.8430\n",
            "Epoch 95/100\n",
            "11/11 [==============================] - 0s 10ms/step - loss: 0.3807 - accuracy: 0.8636\n",
            "Epoch 96/100\n",
            "11/11 [==============================] - 0s 10ms/step - loss: 0.3797 - accuracy: 0.8636\n",
            "Epoch 97/100\n",
            "11/11 [==============================] - 0s 10ms/step - loss: 0.3810 - accuracy: 0.8512\n",
            "Epoch 98/100\n",
            "11/11 [==============================] - 0s 11ms/step - loss: 0.3773 - accuracy: 0.8554\n",
            "Epoch 99/100\n",
            "11/11 [==============================] - 0s 10ms/step - loss: 0.3817 - accuracy: 0.8388\n",
            "Epoch 100/100\n",
            "11/11 [==============================] - 0s 11ms/step - loss: 0.3788 - accuracy: 0.8554\n"
          ]
        },
        {
          "data": {
            "text/plain": [
              "<tensorflow.python.keras.callbacks.History at 0x17cf23e50>"
            ]
          },
          "execution_count": 61,
          "metadata": {},
          "output_type": "execute_result"
        }
      ],
      "source": [
        "ann.fit(X_train, y_train, batch_size = 24, epochs = 100)"
      ]
    },
    {
      "cell_type": "code",
      "execution_count": 62,
      "metadata": {
        "colab": {
          "base_uri": "https://localhost:8080/"
        },
        "id": "jhXg1JKZB0ua",
        "outputId": "db5440a6-15d8-481e-f44b-2ca6048265df"
      },
      "outputs": [
        {
          "name": "stdout",
          "output_type": "stream",
          "text": [
            "[[0 0]\n",
            " [1 1]\n",
            " [1 0]\n",
            " [0 0]\n",
            " [0 1]\n",
            " [1 0]\n",
            " [0 0]\n",
            " [0 0]\n",
            " [0 0]\n",
            " [0 0]\n",
            " [1 1]\n",
            " [1 1]\n",
            " [0 0]\n",
            " [1 1]\n",
            " [1 1]\n",
            " [1 1]\n",
            " [0 1]\n",
            " [1 1]\n",
            " [0 0]\n",
            " [1 1]\n",
            " [1 1]\n",
            " [0 0]\n",
            " [0 0]\n",
            " [0 0]\n",
            " [1 1]\n",
            " [1 0]\n",
            " [0 0]\n",
            " [0 0]\n",
            " [1 1]\n",
            " [1 1]\n",
            " [1 0]\n",
            " [0 0]\n",
            " [1 1]\n",
            " [1 1]\n",
            " [1 1]\n",
            " [1 0]\n",
            " [0 0]\n",
            " [1 1]\n",
            " [0 0]\n",
            " [0 0]\n",
            " [1 1]\n",
            " [1 1]\n",
            " [0 1]\n",
            " [0 0]\n",
            " [0 1]\n",
            " [1 1]\n",
            " [1 1]\n",
            " [1 0]\n",
            " [0 0]\n",
            " [1 1]\n",
            " [1 1]\n",
            " [0 1]\n",
            " [1 1]\n",
            " [1 1]\n",
            " [1 1]\n",
            " [0 0]\n",
            " [1 1]\n",
            " [1 0]\n",
            " [1 1]\n",
            " [1 1]\n",
            " [1 1]]\n"
          ]
        },
        {
          "name": "stderr",
          "output_type": "stream",
          "text": [
            "2023-03-12 10:51:12.752260: I tensorflow/core/grappler/optimizers/custom_graph_optimizer_registry.cc:112] Plugin optimizer for device_type GPU is enabled.\n"
          ]
        }
      ],
      "source": [
        "y_pred = ann.predict(X_test)\n",
        "y_pred = (y_pred > 0.5)\n",
        "print(np.concatenate((y_pred.reshape(len(y_pred),1), y_test.reshape(len(y_test),1)),1))"
      ]
    },
    {
      "cell_type": "code",
      "execution_count": 63,
      "metadata": {
        "colab": {
          "base_uri": "https://localhost:8080/"
        },
        "id": "DntFCk_ABDNY",
        "outputId": "56701b6f-53ff-4579-e0fc-1d09f2f8c949"
      },
      "outputs": [
        {
          "name": "stdout",
          "output_type": "stream",
          "text": [
            "[[20  7]\n",
            " [ 5 29]]\n",
            "Predictive Accuracy achieved for ANN: 80.32786885245902\n"
          ]
        }
      ],
      "source": [
        "from sklearn.metrics import confusion_matrix, accuracy_score\n",
        "cm = confusion_matrix(y_test, y_pred)\n",
        "print(cm)\n",
        "print('Predictive Accuracy achieved for ANN:', accuracy_score(y_test, y_pred)*100)"
      ]
    },
    {
      "cell_type": "code",
      "execution_count": 64,
      "metadata": {
        "id": "Wa2vKElHvt_Q"
      },
      "outputs": [],
      "source": [
        "model = tf.keras.models.Sequential()"
      ]
    },
    {
      "cell_type": "code",
      "execution_count": 65,
      "metadata": {
        "id": "FRWP43Ydvgyz"
      },
      "outputs": [],
      "source": [
        "model.add(tf.keras.layers.Dense(units=8, activation='relu'))\n",
        "model.add(tf.keras.layers.Dense(units=7, activation='tanh'))\n",
        "model.add(tf.keras.layers.Dense(units=7, activation='tanh'))\n",
        "model.add(tf.keras.layers.Dense(1, activation='sigmoid'))"
      ]
    },
    {
      "cell_type": "code",
      "execution_count": 66,
      "metadata": {
        "id": "gfrmIHHUvmra"
      },
      "outputs": [],
      "source": [
        "optimizer = tf.keras.optimizers.Adam(learning_rate=0.01)"
      ]
    },
    {
      "cell_type": "code",
      "execution_count": 67,
      "metadata": {
        "id": "Ke63Y7dzvp8s"
      },
      "outputs": [],
      "source": [
        "model.compile(optimizer=optimizer, loss='binary_crossentropy', metrics=['accuracy'])"
      ]
    },
    {
      "cell_type": "code",
      "execution_count": 68,
      "metadata": {
        "colab": {
          "base_uri": "https://localhost:8080/"
        },
        "id": "lCVd-jd0vBJa",
        "outputId": "3078303b-8351-4e9a-ae79-1f39b3e06f2b"
      },
      "outputs": [
        {
          "name": "stdout",
          "output_type": "stream",
          "text": [
            "Epoch 1/100\n"
          ]
        },
        {
          "name": "stderr",
          "output_type": "stream",
          "text": [
            "2023-03-12 10:51:13.165200: I tensorflow/core/grappler/optimizers/custom_graph_optimizer_registry.cc:112] Plugin optimizer for device_type GPU is enabled.\n"
          ]
        },
        {
          "name": "stdout",
          "output_type": "stream",
          "text": [
            "11/11 [==============================] - 1s 44ms/step - loss: 0.7039 - accuracy: 0.5455 - val_loss: 0.6442 - val_accuracy: 0.6066\n",
            "Epoch 2/100\n",
            " 1/11 [=>............................] - ETA: 0s - loss: 0.6490 - accuracy: 0.5417"
          ]
        },
        {
          "name": "stderr",
          "output_type": "stream",
          "text": [
            "2023-03-12 10:51:14.023744: I tensorflow/core/grappler/optimizers/custom_graph_optimizer_registry.cc:112] Plugin optimizer for device_type GPU is enabled.\n"
          ]
        },
        {
          "name": "stdout",
          "output_type": "stream",
          "text": [
            "11/11 [==============================] - 0s 13ms/step - loss: 0.6412 - accuracy: 0.6446 - val_loss: 0.6001 - val_accuracy: 0.6885\n",
            "Epoch 3/100\n",
            "11/11 [==============================] - 0s 13ms/step - loss: 0.5767 - accuracy: 0.7190 - val_loss: 0.5108 - val_accuracy: 0.8197\n",
            "Epoch 4/100\n",
            "11/11 [==============================] - 0s 13ms/step - loss: 0.5086 - accuracy: 0.7727 - val_loss: 0.5133 - val_accuracy: 0.7705\n",
            "Epoch 5/100\n",
            "11/11 [==============================] - 0s 12ms/step - loss: 0.6985 - accuracy: 0.5950 - val_loss: 0.5454 - val_accuracy: 0.7213\n",
            "Epoch 6/100\n",
            "11/11 [==============================] - 0s 12ms/step - loss: 0.6543 - accuracy: 0.5661 - val_loss: 0.5920 - val_accuracy: 0.6066\n",
            "Epoch 7/100\n",
            "11/11 [==============================] - 0s 13ms/step - loss: 0.5300 - accuracy: 0.7562 - val_loss: 0.4752 - val_accuracy: 0.7541\n",
            "Epoch 8/100\n",
            "11/11 [==============================] - 0s 12ms/step - loss: 0.4621 - accuracy: 0.8099 - val_loss: 0.4855 - val_accuracy: 0.8361\n",
            "Epoch 9/100\n",
            "11/11 [==============================] - 0s 12ms/step - loss: 0.5502 - accuracy: 0.7314 - val_loss: 0.5008 - val_accuracy: 0.7869\n",
            "Epoch 10/100\n",
            "11/11 [==============================] - 0s 12ms/step - loss: 0.4859 - accuracy: 0.8306 - val_loss: 0.4801 - val_accuracy: 0.7869\n",
            "Epoch 11/100\n",
            "11/11 [==============================] - 0s 14ms/step - loss: 0.4559 - accuracy: 0.8182 - val_loss: 0.4338 - val_accuracy: 0.8033\n",
            "Epoch 12/100\n",
            "11/11 [==============================] - 0s 12ms/step - loss: 0.4219 - accuracy: 0.8264 - val_loss: 0.4249 - val_accuracy: 0.8197\n",
            "Epoch 13/100\n",
            "11/11 [==============================] - 0s 12ms/step - loss: 0.4270 - accuracy: 0.8140 - val_loss: 0.4510 - val_accuracy: 0.8197\n",
            "Epoch 14/100\n",
            "11/11 [==============================] - 0s 12ms/step - loss: 0.4078 - accuracy: 0.8223 - val_loss: 0.4120 - val_accuracy: 0.8197\n",
            "Epoch 15/100\n",
            "11/11 [==============================] - 0s 12ms/step - loss: 0.4188 - accuracy: 0.8430 - val_loss: 0.4346 - val_accuracy: 0.8197\n",
            "Epoch 16/100\n",
            "11/11 [==============================] - 0s 12ms/step - loss: 0.4103 - accuracy: 0.8306 - val_loss: 0.4611 - val_accuracy: 0.8197\n",
            "Epoch 17/100\n",
            "11/11 [==============================] - 0s 12ms/step - loss: 0.4612 - accuracy: 0.7975 - val_loss: 0.4652 - val_accuracy: 0.8033\n",
            "Epoch 18/100\n",
            "11/11 [==============================] - 0s 12ms/step - loss: 0.4289 - accuracy: 0.8140 - val_loss: 0.4741 - val_accuracy: 0.7705\n",
            "Epoch 19/100\n",
            "11/11 [==============================] - 0s 12ms/step - loss: 0.4446 - accuracy: 0.7975 - val_loss: 0.6105 - val_accuracy: 0.7049\n",
            "Epoch 20/100\n",
            "11/11 [==============================] - 0s 12ms/step - loss: 0.5874 - accuracy: 0.7025 - val_loss: 0.4632 - val_accuracy: 0.8033\n",
            "Epoch 21/100\n",
            "11/11 [==============================] - 0s 12ms/step - loss: 0.4647 - accuracy: 0.8017 - val_loss: 0.4668 - val_accuracy: 0.8033\n",
            "Epoch 22/100\n",
            "11/11 [==============================] - 0s 12ms/step - loss: 0.4887 - accuracy: 0.7851 - val_loss: 0.4343 - val_accuracy: 0.8033\n",
            "Epoch 23/100\n",
            "11/11 [==============================] - 0s 12ms/step - loss: 0.4058 - accuracy: 0.8388 - val_loss: 0.4266 - val_accuracy: 0.8361\n",
            "Epoch 24/100\n",
            "11/11 [==============================] - 0s 12ms/step - loss: 0.3936 - accuracy: 0.8306 - val_loss: 0.4629 - val_accuracy: 0.8197\n",
            "Epoch 25/100\n",
            "11/11 [==============================] - 0s 12ms/step - loss: 0.4126 - accuracy: 0.8388 - val_loss: 0.4470 - val_accuracy: 0.8361\n",
            "Epoch 26/100\n",
            "11/11 [==============================] - 0s 12ms/step - loss: 0.4127 - accuracy: 0.8512 - val_loss: 0.4382 - val_accuracy: 0.8197\n",
            "Epoch 27/100\n",
            "11/11 [==============================] - 0s 12ms/step - loss: 0.4093 - accuracy: 0.8306 - val_loss: 0.4458 - val_accuracy: 0.8197\n",
            "Epoch 28/100\n",
            "11/11 [==============================] - 0s 12ms/step - loss: 0.3978 - accuracy: 0.8471 - val_loss: 0.4255 - val_accuracy: 0.8033\n",
            "Epoch 29/100\n",
            "11/11 [==============================] - 0s 12ms/step - loss: 0.3828 - accuracy: 0.8512 - val_loss: 0.4177 - val_accuracy: 0.8197\n",
            "Epoch 30/100\n",
            "11/11 [==============================] - 0s 12ms/step - loss: 0.3852 - accuracy: 0.8388 - val_loss: 0.4296 - val_accuracy: 0.8197\n",
            "Epoch 31/100\n",
            "11/11 [==============================] - 0s 12ms/step - loss: 0.3800 - accuracy: 0.8388 - val_loss: 0.4366 - val_accuracy: 0.8197\n",
            "Epoch 32/100\n",
            "11/11 [==============================] - 0s 12ms/step - loss: 0.3795 - accuracy: 0.8264 - val_loss: 0.4426 - val_accuracy: 0.8033\n",
            "Epoch 33/100\n",
            "11/11 [==============================] - 0s 12ms/step - loss: 0.3723 - accuracy: 0.8471 - val_loss: 0.4135 - val_accuracy: 0.8197\n",
            "Epoch 34/100\n",
            "11/11 [==============================] - 0s 12ms/step - loss: 0.3690 - accuracy: 0.8554 - val_loss: 0.4209 - val_accuracy: 0.8197\n",
            "Epoch 35/100\n",
            "11/11 [==============================] - 0s 12ms/step - loss: 0.3729 - accuracy: 0.8471 - val_loss: 0.4113 - val_accuracy: 0.8361\n",
            "Epoch 36/100\n",
            "11/11 [==============================] - 0s 12ms/step - loss: 0.3672 - accuracy: 0.8595 - val_loss: 0.4105 - val_accuracy: 0.8197\n",
            "Epoch 37/100\n",
            "11/11 [==============================] - 0s 12ms/step - loss: 0.3578 - accuracy: 0.8636 - val_loss: 0.4151 - val_accuracy: 0.8033\n",
            "Epoch 38/100\n",
            "11/11 [==============================] - 0s 17ms/step - loss: 0.3621 - accuracy: 0.8471 - val_loss: 0.4050 - val_accuracy: 0.8033\n",
            "Epoch 39/100\n",
            "11/11 [==============================] - 0s 12ms/step - loss: 0.3604 - accuracy: 0.8595 - val_loss: 0.4466 - val_accuracy: 0.7869\n",
            "Epoch 40/100\n",
            "11/11 [==============================] - 0s 12ms/step - loss: 0.4227 - accuracy: 0.8140 - val_loss: 0.4907 - val_accuracy: 0.8033\n",
            "Epoch 41/100\n",
            "11/11 [==============================] - 0s 12ms/step - loss: 0.4517 - accuracy: 0.8058 - val_loss: 0.3838 - val_accuracy: 0.8525\n",
            "Epoch 42/100\n",
            "11/11 [==============================] - 0s 12ms/step - loss: 0.3686 - accuracy: 0.8471 - val_loss: 0.3790 - val_accuracy: 0.8197\n",
            "Epoch 43/100\n",
            "11/11 [==============================] - 0s 12ms/step - loss: 0.3636 - accuracy: 0.8636 - val_loss: 0.3771 - val_accuracy: 0.8197\n",
            "Epoch 44/100\n",
            "11/11 [==============================] - 0s 12ms/step - loss: 0.4206 - accuracy: 0.8223 - val_loss: 0.4380 - val_accuracy: 0.8033\n",
            "Epoch 45/100\n",
            "11/11 [==============================] - 0s 12ms/step - loss: 0.3862 - accuracy: 0.8182 - val_loss: 0.3967 - val_accuracy: 0.8197\n",
            "Epoch 46/100\n",
            "11/11 [==============================] - 0s 12ms/step - loss: 0.3630 - accuracy: 0.8430 - val_loss: 0.4101 - val_accuracy: 0.8197\n",
            "Epoch 47/100\n",
            "11/11 [==============================] - 0s 12ms/step - loss: 0.4306 - accuracy: 0.8140 - val_loss: 0.4031 - val_accuracy: 0.8361\n",
            "Epoch 48/100\n",
            "11/11 [==============================] - 0s 12ms/step - loss: 0.3916 - accuracy: 0.8554 - val_loss: 0.4017 - val_accuracy: 0.8197\n",
            "Epoch 49/100\n",
            "11/11 [==============================] - 0s 12ms/step - loss: 0.4068 - accuracy: 0.8264 - val_loss: 0.4029 - val_accuracy: 0.8525\n",
            "Epoch 50/100\n",
            "11/11 [==============================] - 0s 12ms/step - loss: 0.3691 - accuracy: 0.8471 - val_loss: 0.3888 - val_accuracy: 0.8361\n",
            "Epoch 51/100\n",
            "11/11 [==============================] - 0s 12ms/step - loss: 0.3970 - accuracy: 0.8182 - val_loss: 0.3787 - val_accuracy: 0.8361\n",
            "Epoch 52/100\n",
            "11/11 [==============================] - 0s 12ms/step - loss: 0.3632 - accuracy: 0.8554 - val_loss: 0.4423 - val_accuracy: 0.8525\n",
            "Epoch 53/100\n",
            "11/11 [==============================] - 0s 12ms/step - loss: 0.4748 - accuracy: 0.7686 - val_loss: 0.4372 - val_accuracy: 0.8033\n",
            "Epoch 54/100\n",
            "11/11 [==============================] - 0s 12ms/step - loss: 0.4129 - accuracy: 0.8223 - val_loss: 0.4247 - val_accuracy: 0.8197\n",
            "Epoch 55/100\n",
            "11/11 [==============================] - 0s 12ms/step - loss: 0.3778 - accuracy: 0.8306 - val_loss: 0.4415 - val_accuracy: 0.8361\n",
            "Epoch 56/100\n",
            "11/11 [==============================] - 0s 13ms/step - loss: 0.3633 - accuracy: 0.8471 - val_loss: 0.4488 - val_accuracy: 0.8033\n",
            "Epoch 57/100\n",
            "11/11 [==============================] - 0s 12ms/step - loss: 0.3597 - accuracy: 0.8471 - val_loss: 0.4993 - val_accuracy: 0.7869\n",
            "Epoch 58/100\n",
            "11/11 [==============================] - 0s 12ms/step - loss: 0.4010 - accuracy: 0.8430 - val_loss: 0.4641 - val_accuracy: 0.8033\n",
            "Epoch 59/100\n",
            "11/11 [==============================] - 0s 12ms/step - loss: 0.3514 - accuracy: 0.8512 - val_loss: 0.5201 - val_accuracy: 0.7869\n",
            "Epoch 60/100\n",
            "11/11 [==============================] - 0s 12ms/step - loss: 0.4004 - accuracy: 0.8347 - val_loss: 0.4591 - val_accuracy: 0.8197\n",
            "Epoch 61/100\n",
            "11/11 [==============================] - 0s 12ms/step - loss: 0.4012 - accuracy: 0.8182 - val_loss: 0.4481 - val_accuracy: 0.8361\n",
            "Epoch 62/100\n",
            "11/11 [==============================] - 0s 12ms/step - loss: 0.3886 - accuracy: 0.8347 - val_loss: 0.4597 - val_accuracy: 0.8197\n",
            "Epoch 63/100\n",
            "11/11 [==============================] - 0s 12ms/step - loss: 0.4263 - accuracy: 0.8430 - val_loss: 0.4480 - val_accuracy: 0.8033\n",
            "Epoch 64/100\n",
            "11/11 [==============================] - 0s 12ms/step - loss: 0.3807 - accuracy: 0.8264 - val_loss: 0.4099 - val_accuracy: 0.8033\n",
            "Epoch 65/100\n",
            "11/11 [==============================] - 0s 12ms/step - loss: 0.3885 - accuracy: 0.8264 - val_loss: 0.4173 - val_accuracy: 0.8361\n",
            "Epoch 66/100\n",
            "11/11 [==============================] - 0s 12ms/step - loss: 0.3436 - accuracy: 0.8554 - val_loss: 0.4045 - val_accuracy: 0.8033\n",
            "Epoch 67/100\n",
            "11/11 [==============================] - 0s 12ms/step - loss: 0.3368 - accuracy: 0.8347 - val_loss: 0.4014 - val_accuracy: 0.8197\n",
            "Epoch 68/100\n",
            "11/11 [==============================] - 0s 12ms/step - loss: 0.3327 - accuracy: 0.8430 - val_loss: 0.4369 - val_accuracy: 0.8033\n",
            "Epoch 69/100\n",
            "11/11 [==============================] - 0s 13ms/step - loss: 0.3449 - accuracy: 0.8595 - val_loss: 0.4282 - val_accuracy: 0.8197\n",
            "Epoch 70/100\n",
            "11/11 [==============================] - 0s 12ms/step - loss: 0.3464 - accuracy: 0.8388 - val_loss: 0.4003 - val_accuracy: 0.8361\n",
            "Epoch 71/100\n",
            "11/11 [==============================] - 0s 14ms/step - loss: 0.3408 - accuracy: 0.8388 - val_loss: 0.4023 - val_accuracy: 0.8361\n",
            "Epoch 72/100\n",
            "11/11 [==============================] - 0s 12ms/step - loss: 0.3439 - accuracy: 0.8388 - val_loss: 0.4627 - val_accuracy: 0.7705\n",
            "Epoch 73/100\n",
            "11/11 [==============================] - 0s 12ms/step - loss: 0.4901 - accuracy: 0.7438 - val_loss: 0.4500 - val_accuracy: 0.8197\n",
            "Epoch 74/100\n",
            "11/11 [==============================] - 0s 12ms/step - loss: 0.5148 - accuracy: 0.7645 - val_loss: 0.4532 - val_accuracy: 0.8197\n",
            "Epoch 75/100\n",
            "11/11 [==============================] - 0s 12ms/step - loss: 0.4109 - accuracy: 0.8430 - val_loss: 0.4392 - val_accuracy: 0.8033\n",
            "Epoch 76/100\n",
            "11/11 [==============================] - 0s 12ms/step - loss: 0.3528 - accuracy: 0.8430 - val_loss: 0.4278 - val_accuracy: 0.8197\n",
            "Epoch 77/100\n",
            "11/11 [==============================] - 0s 12ms/step - loss: 0.3575 - accuracy: 0.8347 - val_loss: 0.4290 - val_accuracy: 0.8033\n",
            "Epoch 78/100\n",
            "11/11 [==============================] - 0s 12ms/step - loss: 0.3290 - accuracy: 0.8512 - val_loss: 0.4125 - val_accuracy: 0.8197\n",
            "Epoch 79/100\n",
            "11/11 [==============================] - 0s 12ms/step - loss: 0.3197 - accuracy: 0.8554 - val_loss: 0.4274 - val_accuracy: 0.8361\n",
            "Epoch 80/100\n",
            "11/11 [==============================] - 0s 12ms/step - loss: 0.3707 - accuracy: 0.8347 - val_loss: 0.4364 - val_accuracy: 0.8033\n",
            "Epoch 81/100\n",
            "11/11 [==============================] - 0s 12ms/step - loss: 0.3408 - accuracy: 0.8388 - val_loss: 0.4302 - val_accuracy: 0.8033\n",
            "Epoch 82/100\n",
            "11/11 [==============================] - 0s 12ms/step - loss: 0.3400 - accuracy: 0.8636 - val_loss: 0.4285 - val_accuracy: 0.8197\n",
            "Epoch 83/100\n",
            "11/11 [==============================] - 0s 12ms/step - loss: 0.3520 - accuracy: 0.8388 - val_loss: 0.4192 - val_accuracy: 0.8361\n",
            "Epoch 84/100\n",
            "11/11 [==============================] - 0s 12ms/step - loss: 0.3463 - accuracy: 0.8430 - val_loss: 0.4222 - val_accuracy: 0.8361\n",
            "Epoch 85/100\n",
            "11/11 [==============================] - 0s 12ms/step - loss: 0.3351 - accuracy: 0.8471 - val_loss: 0.4193 - val_accuracy: 0.8361\n",
            "Epoch 86/100\n",
            "11/11 [==============================] - 0s 12ms/step - loss: 0.3566 - accuracy: 0.8388 - val_loss: 0.4111 - val_accuracy: 0.8197\n",
            "Epoch 87/100\n",
            "11/11 [==============================] - 0s 12ms/step - loss: 0.3421 - accuracy: 0.8347 - val_loss: 0.4272 - val_accuracy: 0.8361\n",
            "Epoch 88/100\n",
            "11/11 [==============================] - 0s 15ms/step - loss: 0.3281 - accuracy: 0.8554 - val_loss: 0.4300 - val_accuracy: 0.8197\n",
            "Epoch 89/100\n",
            "11/11 [==============================] - 0s 12ms/step - loss: 0.3469 - accuracy: 0.8512 - val_loss: 0.4149 - val_accuracy: 0.8361\n",
            "Epoch 90/100\n",
            "11/11 [==============================] - 0s 12ms/step - loss: 0.3332 - accuracy: 0.8388 - val_loss: 0.4224 - val_accuracy: 0.8361\n",
            "Epoch 91/100\n",
            "11/11 [==============================] - 0s 12ms/step - loss: 0.3130 - accuracy: 0.8678 - val_loss: 0.4040 - val_accuracy: 0.8197\n",
            "Epoch 92/100\n",
            "11/11 [==============================] - 0s 12ms/step - loss: 0.3275 - accuracy: 0.8512 - val_loss: 0.4132 - val_accuracy: 0.8033\n",
            "Epoch 93/100\n",
            "11/11 [==============================] - 0s 12ms/step - loss: 0.3559 - accuracy: 0.8306 - val_loss: 0.4264 - val_accuracy: 0.8361\n",
            "Epoch 94/100\n",
            "11/11 [==============================] - 0s 12ms/step - loss: 0.3370 - accuracy: 0.8595 - val_loss: 0.4089 - val_accuracy: 0.8197\n",
            "Epoch 95/100\n",
            "11/11 [==============================] - 0s 12ms/step - loss: 0.3517 - accuracy: 0.8512 - val_loss: 0.4483 - val_accuracy: 0.8033\n",
            "Epoch 96/100\n",
            "11/11 [==============================] - 0s 12ms/step - loss: 0.3117 - accuracy: 0.8512 - val_loss: 0.4260 - val_accuracy: 0.8033\n",
            "Epoch 97/100\n",
            "11/11 [==============================] - 0s 12ms/step - loss: 0.3316 - accuracy: 0.8430 - val_loss: 0.4493 - val_accuracy: 0.8197\n",
            "Epoch 98/100\n",
            "11/11 [==============================] - 0s 12ms/step - loss: 0.3242 - accuracy: 0.8554 - val_loss: 0.4291 - val_accuracy: 0.8361\n",
            "Epoch 99/100\n",
            "11/11 [==============================] - 0s 12ms/step - loss: 0.3265 - accuracy: 0.8471 - val_loss: 0.4329 - val_accuracy: 0.8033\n",
            "Epoch 100/100\n",
            "11/11 [==============================] - 0s 12ms/step - loss: 0.4020 - accuracy: 0.7851 - val_loss: 0.4035 - val_accuracy: 0.8361\n"
          ]
        },
        {
          "data": {
            "text/plain": [
              "<tensorflow.python.keras.callbacks.History at 0x17d36dd00>"
            ]
          },
          "execution_count": 68,
          "metadata": {},
          "output_type": "execute_result"
        }
      ],
      "source": [
        "model.fit(X_train, y_train, batch_size = 24, epochs = 100, validation_data=(X_test, y_test))"
      ]
    },
    {
      "attachments": {},
      "cell_type": "markdown",
      "metadata": {},
      "source": [
        "# Ensemble"
      ]
    },
    {
      "cell_type": "code",
      "execution_count": 78,
      "metadata": {},
      "outputs": [
        {
          "name": "stdout",
          "output_type": "stream",
          "text": [
            "lr recall score: 0.9117647058823529\n",
            "nb recall score: 0.9117647058823529\n",
            "rf recall score: 0.8529411764705882\n",
            "knn recall score: 0.9411764705882353\n",
            "gb recall score: 0.8235294117647058\n",
            "ada recall score: 0.7941176470588235\n"
          ]
        },
        {
          "name": "stderr",
          "output_type": "stream",
          "text": [
            "/Users/maanaav/miniforge3/envs/ip/lib/python3.9/site-packages/sklearn/linear_model/_logistic.py:814: ConvergenceWarning: lbfgs failed to converge (status=1):\n",
            "STOP: TOTAL NO. of ITERATIONS REACHED LIMIT.\n",
            "\n",
            "Increase the number of iterations (max_iter) or scale the data as shown in:\n",
            "    https://scikit-learn.org/stable/modules/preprocessing.html\n",
            "Please also refer to the documentation for alternative solver options:\n",
            "    https://scikit-learn.org/stable/modules/linear_model.html#logistic-regression\n",
            "  n_iter_i = _check_optimize_result(\n"
          ]
        }
      ],
      "source": [
        "from sklearn.neural_network import MLPClassifier\n",
        "\n",
        "# Define the base models\n",
        "base_estimator = DecisionTreeClassifier(max_depth=1)\n",
        "models = [\n",
        "    ('lr', LogisticRegression(random_state = 0)),\n",
        "    ('nb', GaussianNB()),\n",
        "    ('rf', RandomForestClassifier(n_estimators = 10, criterion = 'entropy', random_state = 0)),\n",
        "    ('knn', KNeighborsClassifier(n_neighbors = 5, metric = 'minkowski', p = 2)),\n",
        "    ('gb', GradientBoostingClassifier(n_estimators=100, random_state=42)),\n",
        "    ('ada', AdaBoostClassifier(base_estimator=base_estimator, n_estimators=100, random_state=42))\n",
        "]\n",
        "\n",
        "# Train the base models and make predictions on the test set\n",
        "meta_X_train = []\n",
        "meta_X_test = []\n",
        "for name, model in models:\n",
        "    model.fit(X_train, y_train)\n",
        "    y_pred = model.predict(X_test)\n",
        "    meta_X_train.append(model.predict(X_train))\n",
        "    meta_X_test.append(y_pred)\n",
        "    print(f\"{name} recall score: {recall_score(y_test, y_pred)}\")"
      ]
    },
    {
      "cell_type": "code",
      "execution_count": 79,
      "metadata": {},
      "outputs": [
        {
          "name": "stdout",
          "output_type": "stream",
          "text": [
            "Precision: 81.81818181818183\n",
            "Recall: 79.41176470588235\n",
            "F1-score: 80.59701492537314\n"
          ]
        }
      ],
      "source": [
        "# Train the meta model on the predictions of the base models\n",
        "meta_X_train = np.array(meta_X_train).T\n",
        "meta_X_test = np.array(meta_X_test).T\n",
        "meta_model = MLPClassifier(hidden_layer_sizes=(50, 25))\n",
        "meta_model.fit(meta_X_train, y_train)\n",
        "y_pred_ensemble = meta_model.predict(meta_X_test)\n",
        "\n",
        "# Evaluate the performance of the ensemble model\n",
        "precision = precision_score(y_test, y_pred_ensemble, average='binary')\n",
        "print('Precision:',precision*100)\n",
        "\n",
        "recall = recall_score(y_test, y_pred_ensemble, average='binary')\n",
        "print('Recall:',recall*100)\n",
        "\n",
        "score = f1_score(y_test, y_pred_ensemble, average='binary')\n",
        "print('F1-score:',score*100)"
      ]
    },
    {
      "cell_type": "markdown",
      "metadata": {
        "id": "SU-jq4aMYNaZ"
      },
      "source": [
        "# Conclusion"
      ]
    },
    {
      "cell_type": "code",
      "execution_count": 82,
      "metadata": {},
      "outputs": [
        {
          "name": "stdout",
          "output_type": "stream",
          "text": [
            "Precision: 84.21052631578947\n",
            "Recall: 94.11764705882352\n",
            "F1-score: 88.88888888888889\n"
          ]
        }
      ],
      "source": [
        "from sklearn.pipeline import Pipeline\n",
        "from sklearn.ensemble import VotingClassifier\n",
        "# Define a voting classifier as the meta model\n",
        "meta_model = VotingClassifier(estimators=models, voting='soft')\n",
        "\n",
        "# Define a pipeline to oversample the minority class and standardize the features\n",
        "pipeline = Pipeline([\n",
        "    # ('oversample', RandomOverSampler()),\n",
        "    ('scaler', StandardScaler()),\n",
        "    ('model', meta_model)\n",
        "])\n",
        "\n",
        "# Train the ensemble model on the training set\n",
        "pipeline.fit(X_train, y_train)\n",
        "\n",
        "# Make predictions on the test set\n",
        "y_pred = pipeline.predict(X_test)\n",
        "\n",
        "# Evaluate the performance of the ensemble model\n",
        "precision = precision_score(y_test, y_pred, average='binary')\n",
        "print('Precision:',precision*100)\n",
        "\n",
        "recall = recall_score(y_test, y_pred, average='binary')\n",
        "print('Recall:',recall*100)\n",
        "\n",
        "score = f1_score(y_test, y_pred, average='binary')\n",
        "print('F1-score:',score*100)"
      ]
    },
    {
      "cell_type": "markdown",
      "metadata": {
        "id": "o_2f8SatYJHV"
      },
      "source": [
        "1. We implemented multiple models using various algorithms like logistic regression, support vector machine, k-nearest neighbours, naive bayes, decision tree, random forest classifier, and xgboost. We also built a artificial neural network and trained it using the existing dataset.\n",
        "2. As we have a higher recall for models which were built using Naive Bayes, KNN, and Decision tree (how many of the actual positive instances our model was able to predict), we can say that it is a optimal model, since we will be classifying a larger number of patients having heart disease(As the proportion of having a heart disease based on the features is greater in the given dataset). Precision for such a domain(healthcare) should be lower because out of a large number of patients predicted having heart disease some of them won’t actually have heart disease upon further diagnosis. \n",
        "3. We observed that Naive Bayes had the highest accuracy among the three algorithms. Followed by an multilayer artificial neural network. While Decision Tree is fast and easy to understand and visualize, it is prone to overfit. As the data is big, one single tree may grow a lot of nodes, which might result in complexity and lead to overfitting which indirectly affects the accuracy of the model. A small change in the data can also result in a significant change in the structure of the decision tree. KNN is a non-parametric algorithm, which implies it does not make assumptions about any underlying patterns in the data. It is a also known as a lazy learner, since it does not go through any training it simply stores the dataset and based on similarity measures(distances between the co-ordinates) assignes a class to the new instance. It is computationally complex and is suitable for dataset with fewer instances. "
      ]
    }
  ],
  "metadata": {
    "colab": {
      "provenance": []
    },
    "kernelspec": {
      "display_name": "Python 3",
      "name": "python3"
    },
    "language_info": {
      "codemirror_mode": {
        "name": "ipython",
        "version": 3
      },
      "file_extension": ".py",
      "mimetype": "text/x-python",
      "name": "python",
      "nbconvert_exporter": "python",
      "pygments_lexer": "ipython3",
      "version": "3.9.15"
    }
  },
  "nbformat": 4,
  "nbformat_minor": 0
}
